{
 "cells": [
  {
   "cell_type": "code",
   "execution_count": 23,
   "id": "061689a5-8b77-4d0f-80e8-0f2da9e05462",
   "metadata": {},
   "outputs": [],
   "source": [
    "import pandas as pd\n",
    "import numpy as np\n",
    "import seaborn as sns\n",
    "import matplotlib.pyplot as plt\n",
    "\n",
    "from scipy.stats.mstats import winsorize\n",
    "from sklearn.preprocessing import MinMaxScaler\n",
    "from sklearn.linear_model import LinearRegression"
   ]
  },
  {
   "cell_type": "markdown",
   "id": "e6aba1bd-f3f0-4411-a107-436908f1db45",
   "metadata": {},
   "source": [
    "# Loading of data"
   ]
  },
  {
   "cell_type": "markdown",
   "id": "849015d2-a9f2-401b-aeac-8b912c0b471e",
   "metadata": {},
   "source": [
    "## `stocks` dataset"
   ]
  },
  {
   "cell_type": "markdown",
   "id": "9a3ce939-d097-42e0-842c-a8bc5081efa1",
   "metadata": {},
   "source": [
    "Load `stocks` dataset, parse corresponding dates, and set index by `firm`."
   ]
  },
  {
   "cell_type": "code",
   "execution_count": 24,
   "id": "06e16e66-6150-4836-a0ea-24c62e102aa3",
   "metadata": {},
   "outputs": [],
   "source": [
    "stocks = pd.read_csv(\n",
    "    \"stocks.csv\",\n",
    "    parse_dates=[\"q\"],\n",
    "    index_col=[\"firm\"]\n",
    ")"
   ]
  },
  {
   "cell_type": "markdown",
   "id": "81ca1753-8fcf-4ded-af4e-3767b80017da",
   "metadata": {},
   "source": [
    "Convert timestamps to periods."
   ]
  },
  {
   "cell_type": "code",
   "execution_count": 25,
   "id": "b85f858b-b23e-483a-86f0-bc27fbe827e9",
   "metadata": {},
   "outputs": [],
   "source": [
    "stocks[\"q\"] = stocks[\"q\"].dt.to_period(\"Q\")"
   ]
  },
  {
   "cell_type": "markdown",
   "id": "8e47b39e-9c55-4154-9ae8-1cb2e44e5873",
   "metadata": {},
   "source": [
    "Add `q` to create a multi-index."
   ]
  },
  {
   "cell_type": "code",
   "execution_count": 26,
   "id": "44b53ae5-fdf7-4380-8fc0-3bf02c7536e1",
   "metadata": {},
   "outputs": [],
   "source": [
    "stocks = stocks.set_index([\"q\"], append=True)"
   ]
  },
  {
   "cell_type": "markdown",
   "id": "2119c675-b028-4332-a711-6ab677123dae",
   "metadata": {},
   "source": [
    "Then sort by `firm` for convenience."
   ]
  },
  {
   "cell_type": "code",
   "execution_count": 27,
   "id": "ae973b36-5ef3-4441-97c1-0164f4af9267",
   "metadata": {},
   "outputs": [],
   "source": [
    "stocks = stocks.sort_values(by=[\"firm\", \"q\"])"
   ]
  },
  {
   "cell_type": "markdown",
   "id": "b7fce3a9-e864-4a01-bfbe-475009c4c0c7",
   "metadata": {},
   "source": [
    "Check if there are `nan` values on the `firm` column."
   ]
  },
  {
   "cell_type": "code",
   "execution_count": 28,
   "id": "d4c22574-a7cf-41ed-8ad2-5390d387305d",
   "metadata": {},
   "outputs": [
    {
     "data": {
      "text/html": [
       "<div>\n",
       "<style scoped>\n",
       "    .dataframe tbody tr th:only-of-type {\n",
       "        vertical-align: middle;\n",
       "    }\n",
       "\n",
       "    .dataframe tbody tr th {\n",
       "        vertical-align: top;\n",
       "    }\n",
       "\n",
       "    .dataframe thead th {\n",
       "        text-align: right;\n",
       "    }\n",
       "</style>\n",
       "<table border=\"1\" class=\"dataframe\">\n",
       "  <thead>\n",
       "    <tr style=\"text-align: right;\">\n",
       "      <th></th>\n",
       "      <th></th>\n",
       "      <th>revenue</th>\n",
       "      <th>cogs</th>\n",
       "      <th>sgae</th>\n",
       "      <th>otheropexp</th>\n",
       "      <th>extraincome</th>\n",
       "      <th>finexp</th>\n",
       "      <th>incometax</th>\n",
       "      <th>totalassets</th>\n",
       "      <th>totalliabilities</th>\n",
       "      <th>shortdebt</th>\n",
       "      <th>longdebt</th>\n",
       "      <th>stockholderequity</th>\n",
       "      <th>adjprice</th>\n",
       "      <th>originalprice</th>\n",
       "      <th>sharesoutstanding</th>\n",
       "      <th>fiscalmonth</th>\n",
       "      <th>year</th>\n",
       "      <th>cto</th>\n",
       "    </tr>\n",
       "    <tr>\n",
       "      <th>firm</th>\n",
       "      <th>q</th>\n",
       "      <th></th>\n",
       "      <th></th>\n",
       "      <th></th>\n",
       "      <th></th>\n",
       "      <th></th>\n",
       "      <th></th>\n",
       "      <th></th>\n",
       "      <th></th>\n",
       "      <th></th>\n",
       "      <th></th>\n",
       "      <th></th>\n",
       "      <th></th>\n",
       "      <th></th>\n",
       "      <th></th>\n",
       "      <th></th>\n",
       "      <th></th>\n",
       "      <th></th>\n",
       "      <th></th>\n",
       "    </tr>\n",
       "  </thead>\n",
       "  <tbody>\n",
       "    <tr>\n",
       "      <th rowspan=\"5\" valign=\"top\">A</th>\n",
       "      <th>2000Q1</th>\n",
       "      <td>NaN</td>\n",
       "      <td>NaN</td>\n",
       "      <td>NaN</td>\n",
       "      <td>NaN</td>\n",
       "      <td>NaN</td>\n",
       "      <td>NaN</td>\n",
       "      <td>NaN</td>\n",
       "      <td>NaN</td>\n",
       "      <td>NaN</td>\n",
       "      <td>NaN</td>\n",
       "      <td>NaN</td>\n",
       "      <td>NaN</td>\n",
       "      <td>63.761670</td>\n",
       "      <td>104.0000</td>\n",
       "      <td>452000.000</td>\n",
       "      <td>NaN</td>\n",
       "      <td>2000.0</td>\n",
       "      <td>1.0</td>\n",
       "    </tr>\n",
       "    <tr>\n",
       "      <th>2000Q2</th>\n",
       "      <td>2485000.0</td>\n",
       "      <td>1261000.0</td>\n",
       "      <td>1010000.0</td>\n",
       "      <td>0.0</td>\n",
       "      <td>42000.0</td>\n",
       "      <td>0.0</td>\n",
       "      <td>90000.0</td>\n",
       "      <td>7321000.0</td>\n",
       "      <td>2679000.0</td>\n",
       "      <td>512000.0</td>\n",
       "      <td>0.0</td>\n",
       "      <td>4642000.0</td>\n",
       "      <td>45.215607</td>\n",
       "      <td>73.7500</td>\n",
       "      <td>452271.967</td>\n",
       "      <td>6.0</td>\n",
       "      <td>2000.0</td>\n",
       "      <td>2.0</td>\n",
       "    </tr>\n",
       "    <tr>\n",
       "      <th>2000Q3</th>\n",
       "      <td>2670000.0</td>\n",
       "      <td>1369000.0</td>\n",
       "      <td>1091000.0</td>\n",
       "      <td>0.0</td>\n",
       "      <td>28000.0</td>\n",
       "      <td>0.0</td>\n",
       "      <td>83000.0</td>\n",
       "      <td>7827000.0</td>\n",
       "      <td>2925000.0</td>\n",
       "      <td>528000.0</td>\n",
       "      <td>0.0</td>\n",
       "      <td>4902000.0</td>\n",
       "      <td>30.003238</td>\n",
       "      <td>48.9375</td>\n",
       "      <td>453014.579</td>\n",
       "      <td>9.0</td>\n",
       "      <td>2000.0</td>\n",
       "      <td>3.0</td>\n",
       "    </tr>\n",
       "    <tr>\n",
       "      <th>2000Q4</th>\n",
       "      <td>3372000.0</td>\n",
       "      <td>1732000.0</td>\n",
       "      <td>1182000.0</td>\n",
       "      <td>0.0</td>\n",
       "      <td>10000.0</td>\n",
       "      <td>0.0</td>\n",
       "      <td>163000.0</td>\n",
       "      <td>8425000.0</td>\n",
       "      <td>3160000.0</td>\n",
       "      <td>830000.0</td>\n",
       "      <td>0.0</td>\n",
       "      <td>5265000.0</td>\n",
       "      <td>33.566841</td>\n",
       "      <td>54.7500</td>\n",
       "      <td>456366.381</td>\n",
       "      <td>12.0</td>\n",
       "      <td>2000.0</td>\n",
       "      <td>4.0</td>\n",
       "    </tr>\n",
       "    <tr>\n",
       "      <th>2001Q1</th>\n",
       "      <td>2841000.0</td>\n",
       "      <td>1449000.0</td>\n",
       "      <td>1113000.0</td>\n",
       "      <td>0.0</td>\n",
       "      <td>-6000.0</td>\n",
       "      <td>0.0</td>\n",
       "      <td>119000.0</td>\n",
       "      <td>9208000.0</td>\n",
       "      <td>3667000.0</td>\n",
       "      <td>556000.0</td>\n",
       "      <td>0.0</td>\n",
       "      <td>5541000.0</td>\n",
       "      <td>18.840347</td>\n",
       "      <td>30.7300</td>\n",
       "      <td>456769.737</td>\n",
       "      <td>3.0</td>\n",
       "      <td>2001.0</td>\n",
       "      <td>1.0</td>\n",
       "    </tr>\n",
       "  </tbody>\n",
       "</table>\n",
       "</div>"
      ],
      "text/plain": [
       "               revenue       cogs       sgae  otheropexp  extraincome  finexp  \\\n",
       "firm q                                                                          \n",
       "A    2000Q1        NaN        NaN        NaN         NaN          NaN     NaN   \n",
       "     2000Q2  2485000.0  1261000.0  1010000.0         0.0      42000.0     0.0   \n",
       "     2000Q3  2670000.0  1369000.0  1091000.0         0.0      28000.0     0.0   \n",
       "     2000Q4  3372000.0  1732000.0  1182000.0         0.0      10000.0     0.0   \n",
       "     2001Q1  2841000.0  1449000.0  1113000.0         0.0      -6000.0     0.0   \n",
       "\n",
       "             incometax  totalassets  totalliabilities  shortdebt  longdebt  \\\n",
       "firm q                                                                       \n",
       "A    2000Q1        NaN          NaN               NaN        NaN       NaN   \n",
       "     2000Q2    90000.0    7321000.0         2679000.0   512000.0       0.0   \n",
       "     2000Q3    83000.0    7827000.0         2925000.0   528000.0       0.0   \n",
       "     2000Q4   163000.0    8425000.0         3160000.0   830000.0       0.0   \n",
       "     2001Q1   119000.0    9208000.0         3667000.0   556000.0       0.0   \n",
       "\n",
       "             stockholderequity   adjprice  originalprice  sharesoutstanding  \\\n",
       "firm q                                                                        \n",
       "A    2000Q1                NaN  63.761670       104.0000         452000.000   \n",
       "     2000Q2          4642000.0  45.215607        73.7500         452271.967   \n",
       "     2000Q3          4902000.0  30.003238        48.9375         453014.579   \n",
       "     2000Q4          5265000.0  33.566841        54.7500         456366.381   \n",
       "     2001Q1          5541000.0  18.840347        30.7300         456769.737   \n",
       "\n",
       "             fiscalmonth    year  cto  \n",
       "firm q                                 \n",
       "A    2000Q1          NaN  2000.0  1.0  \n",
       "     2000Q2          6.0  2000.0  2.0  \n",
       "     2000Q3          9.0  2000.0  3.0  \n",
       "     2000Q4         12.0  2000.0  4.0  \n",
       "     2001Q1          3.0  2001.0  1.0  "
      ]
     },
     "execution_count": 28,
     "metadata": {},
     "output_type": "execute_result"
    }
   ],
   "source": [
    "stocks.head()"
   ]
  },
  {
   "cell_type": "markdown",
   "id": "96d215b8-3eed-4959-8018-a630cd820c49",
   "metadata": {},
   "source": [
    "Check if there are `nan` values in the `DataFrame`'s multi-index."
   ]
  },
  {
   "cell_type": "code",
   "execution_count": 29,
   "id": "551dea58-0c03-4b7c-8d60-3a24ef106bcc",
   "metadata": {},
   "outputs": [
    {
     "data": {
      "text/plain": [
       "1"
      ]
     },
     "execution_count": 29,
     "metadata": {},
     "output_type": "execute_result"
    }
   ],
   "source": [
    "stocks.index.get_level_values(\"firm\").isna().sum()"
   ]
  },
  {
   "cell_type": "code",
   "execution_count": 30,
   "id": "40f94b69-35d0-4e2c-b0bd-8ca1915b3e32",
   "metadata": {},
   "outputs": [
    {
     "data": {
      "text/plain": [
       "1"
      ]
     },
     "execution_count": 30,
     "metadata": {},
     "output_type": "execute_result"
    }
   ],
   "source": [
    "stocks.index.get_level_values(\"q\").isna().sum()"
   ]
  },
  {
   "cell_type": "markdown",
   "id": "adaf30f7-bb5c-4198-8647-35c041c66c29",
   "metadata": {},
   "source": [
    "Drop `nan` values in multi-index since there is only one `nan` value for every multi-index."
   ]
  },
  {
   "cell_type": "code",
   "execution_count": 31,
   "id": "226da96c-fbb5-4b99-8a54-abb31a6c0bec",
   "metadata": {},
   "outputs": [],
   "source": [
    "stocks = stocks.loc[stocks.index.dropna()]"
   ]
  },
  {
   "cell_type": "code",
   "execution_count": 32,
   "id": "1a961976-e985-4a12-8060-620e2ac68f0b",
   "metadata": {},
   "outputs": [
    {
     "data": {
      "text/plain": [
       "0"
      ]
     },
     "execution_count": 32,
     "metadata": {},
     "output_type": "execute_result"
    }
   ],
   "source": [
    "stocks.index.get_level_values(\"firm\").isna().sum()"
   ]
  },
  {
   "cell_type": "code",
   "execution_count": 33,
   "id": "8cd573f7-7fbf-40f8-be08-5f1f93910751",
   "metadata": {},
   "outputs": [
    {
     "data": {
      "text/plain": [
       "0"
      ]
     },
     "execution_count": 33,
     "metadata": {},
     "output_type": "execute_result"
    }
   ],
   "source": [
    "stocks.index.get_level_values(\"q\").isna().sum()"
   ]
  },
  {
   "cell_type": "markdown",
   "id": "491b7c38-2fc7-49c7-82fb-732b5736bc16",
   "metadata": {},
   "source": [
    "# `us_firms` dataset"
   ]
  },
  {
   "cell_type": "code",
   "execution_count": 34,
   "id": "17632000-996e-4866-ba0d-097e705e5a46",
   "metadata": {},
   "outputs": [],
   "source": [
    "us_firms = pd.read_csv(\"usfirms2022.csv\")  # Load US firms dataset"
   ]
  },
  {
   "cell_type": "code",
   "execution_count": 35,
   "id": "576b62b9-7496-43f2-8c7d-f2405c7c8d57",
   "metadata": {},
   "outputs": [
    {
     "data": {
      "text/html": [
       "<div>\n",
       "<style scoped>\n",
       "    .dataframe tbody tr th:only-of-type {\n",
       "        vertical-align: middle;\n",
       "    }\n",
       "\n",
       "    .dataframe tbody tr th {\n",
       "        vertical-align: top;\n",
       "    }\n",
       "\n",
       "    .dataframe thead th {\n",
       "        text-align: right;\n",
       "    }\n",
       "</style>\n",
       "<table border=\"1\" class=\"dataframe\">\n",
       "  <thead>\n",
       "    <tr style=\"text-align: right;\">\n",
       "      <th></th>\n",
       "      <th>Ticker</th>\n",
       "      <th>Name</th>\n",
       "      <th>N</th>\n",
       "      <th>Class</th>\n",
       "      <th>Country\\r\\nof Origin</th>\n",
       "      <th>Type of Asset</th>\n",
       "      <th>Sector NAICS\\r\\nlevel 1</th>\n",
       "      <th>Exchange / Src</th>\n",
       "      <th>Sector\\r\\nEconomatica</th>\n",
       "      <th>Sector NAICS\\r\\nlast available</th>\n",
       "      <th>partind</th>\n",
       "    </tr>\n",
       "  </thead>\n",
       "  <tbody>\n",
       "    <tr>\n",
       "      <th>0</th>\n",
       "      <td>FLWS</td>\n",
       "      <td>1 800 Flowers Com Inc</td>\n",
       "      <td>1</td>\n",
       "      <td>Com A</td>\n",
       "      <td>US</td>\n",
       "      <td>Stock</td>\n",
       "      <td>Retail Trade</td>\n",
       "      <td>NASDAQ</td>\n",
       "      <td>Trade</td>\n",
       "      <td>Retail Trade</td>\n",
       "      <td>-</td>\n",
       "    </tr>\n",
       "    <tr>\n",
       "      <th>1</th>\n",
       "      <td>TXG</td>\n",
       "      <td>10x Genomics, Inc</td>\n",
       "      <td>2</td>\n",
       "      <td>Com A</td>\n",
       "      <td>US</td>\n",
       "      <td>Stock</td>\n",
       "      <td>Manufacturing</td>\n",
       "      <td>NASDAQ</td>\n",
       "      <td>Electric Electron</td>\n",
       "      <td>Navigational, Measuring, Electromedical, and C...</td>\n",
       "      <td>-</td>\n",
       "    </tr>\n",
       "    <tr>\n",
       "      <th>2</th>\n",
       "      <td>GOED</td>\n",
       "      <td>1847 Goedeker Inc</td>\n",
       "      <td>3</td>\n",
       "      <td>Com</td>\n",
       "      <td>US</td>\n",
       "      <td>Stock</td>\n",
       "      <td>Retail Trade</td>\n",
       "      <td>AMEX</td>\n",
       "      <td>Trade</td>\n",
       "      <td>Furniture and Home Furnishings Stores</td>\n",
       "      <td>-</td>\n",
       "    </tr>\n",
       "    <tr>\n",
       "      <th>3</th>\n",
       "      <td>ONEM</td>\n",
       "      <td>1life Healthcare, Inc</td>\n",
       "      <td>4</td>\n",
       "      <td>Com</td>\n",
       "      <td>US</td>\n",
       "      <td>Stock</td>\n",
       "      <td>Health Care and Social Assistance</td>\n",
       "      <td>NASDAQ</td>\n",
       "      <td>Other</td>\n",
       "      <td>Offices of Physicians</td>\n",
       "      <td>-</td>\n",
       "    </tr>\n",
       "    <tr>\n",
       "      <th>4</th>\n",
       "      <td>SRCE</td>\n",
       "      <td>1st Source Corp</td>\n",
       "      <td>5</td>\n",
       "      <td>Com</td>\n",
       "      <td>US</td>\n",
       "      <td>Stock</td>\n",
       "      <td>Finance and Insurance</td>\n",
       "      <td>NASDAQ</td>\n",
       "      <td>Finance and Insurance</td>\n",
       "      <td>Depository Credit Intermediation</td>\n",
       "      <td>-</td>\n",
       "    </tr>\n",
       "  </tbody>\n",
       "</table>\n",
       "</div>"
      ],
      "text/plain": [
       "  Ticker                   Name  N  Class Country\\r\\nof Origin Type of Asset  \\\n",
       "0   FLWS  1 800 Flowers Com Inc  1  Com A                   US         Stock   \n",
       "1    TXG      10x Genomics, Inc  2  Com A                   US         Stock   \n",
       "2   GOED      1847 Goedeker Inc  3    Com                   US         Stock   \n",
       "3   ONEM  1life Healthcare, Inc  4    Com                   US         Stock   \n",
       "4   SRCE        1st Source Corp  5    Com                   US         Stock   \n",
       "\n",
       "             Sector NAICS\\r\\nlevel 1 Exchange / Src  Sector\\r\\nEconomatica  \\\n",
       "0                       Retail Trade         NASDAQ                  Trade   \n",
       "1                      Manufacturing         NASDAQ      Electric Electron   \n",
       "2                       Retail Trade           AMEX                  Trade   \n",
       "3  Health Care and Social Assistance         NASDAQ                  Other   \n",
       "4              Finance and Insurance         NASDAQ  Finance and Insurance   \n",
       "\n",
       "                      Sector NAICS\\r\\nlast available partind  \n",
       "0                                       Retail Trade       -  \n",
       "1  Navigational, Measuring, Electromedical, and C...       -  \n",
       "2              Furniture and Home Furnishings Stores       -  \n",
       "3                              Offices of Physicians       -  \n",
       "4                   Depository Credit Intermediation       -  "
      ]
     },
     "execution_count": 35,
     "metadata": {},
     "output_type": "execute_result"
    }
   ],
   "source": [
    "us_firms.head()"
   ]
  },
  {
   "cell_type": "markdown",
   "id": "eb73f3f4-ba1e-4340-916f-bf3e3cb0cb91",
   "metadata": {},
   "source": [
    "Rename some of the columns so that they are easier to read."
   ]
  },
  {
   "cell_type": "code",
   "execution_count": 36,
   "id": "583a02da-af98-4ef9-974a-4e654632e6ab",
   "metadata": {},
   "outputs": [],
   "source": [
    "us_firms = us_firms.rename(\n",
    "    columns = {\n",
    "        \"Ticker\": \"firm\",\n",
    "        \"Sector NAICS\\r\\nlevel 1\": \"industry\",\n",
    "        \"Country\\nof Origin\": \"country\",\n",
    "        \"Exchange / Src\": \"exchange\"\n",
    "    }\n",
    ")"
   ]
  },
  {
   "cell_type": "markdown",
   "id": "826224eb-4521-4954-9dc5-2f973dd7e493",
   "metadata": {},
   "source": [
    "Drop other industry-related columns since only NAICS level 1 will be used for this business case."
   ]
  },
  {
   "cell_type": "code",
   "execution_count": 37,
   "id": "0a5cdb42-98d6-4ae0-9264-d2eb806dce2c",
   "metadata": {},
   "outputs": [],
   "source": [
    "us_firms.drop([\"Sector NAICS\\r\\nlast available\", \"Sector\\r\\nEconomatica\"], axis=1, inplace=True)"
   ]
  },
  {
   "cell_type": "markdown",
   "id": "430a23cd-7ef4-4485-a8a9-be4403761173",
   "metadata": {},
   "source": [
    "Set `firm` as index for `us_firms`."
   ]
  },
  {
   "cell_type": "code",
   "execution_count": 38,
   "id": "6a41f732-8e7b-464e-93a8-9e93916bc198",
   "metadata": {},
   "outputs": [],
   "source": [
    "us_firms = us_firms.set_index(\"firm\")"
   ]
  },
  {
   "cell_type": "code",
   "execution_count": 39,
   "id": "b478b888-b6f3-4da4-b3a2-0d09dd78de2f",
   "metadata": {},
   "outputs": [
    {
     "data": {
      "text/html": [
       "<div>\n",
       "<style scoped>\n",
       "    .dataframe tbody tr th:only-of-type {\n",
       "        vertical-align: middle;\n",
       "    }\n",
       "\n",
       "    .dataframe tbody tr th {\n",
       "        vertical-align: top;\n",
       "    }\n",
       "\n",
       "    .dataframe thead th {\n",
       "        text-align: right;\n",
       "    }\n",
       "</style>\n",
       "<table border=\"1\" class=\"dataframe\">\n",
       "  <thead>\n",
       "    <tr style=\"text-align: right;\">\n",
       "      <th></th>\n",
       "      <th>Name</th>\n",
       "      <th>N</th>\n",
       "      <th>Class</th>\n",
       "      <th>Country\\r\\nof Origin</th>\n",
       "      <th>Type of Asset</th>\n",
       "      <th>industry</th>\n",
       "      <th>exchange</th>\n",
       "      <th>partind</th>\n",
       "    </tr>\n",
       "    <tr>\n",
       "      <th>firm</th>\n",
       "      <th></th>\n",
       "      <th></th>\n",
       "      <th></th>\n",
       "      <th></th>\n",
       "      <th></th>\n",
       "      <th></th>\n",
       "      <th></th>\n",
       "      <th></th>\n",
       "    </tr>\n",
       "  </thead>\n",
       "  <tbody>\n",
       "    <tr>\n",
       "      <th>FLWS</th>\n",
       "      <td>1 800 Flowers Com Inc</td>\n",
       "      <td>1</td>\n",
       "      <td>Com A</td>\n",
       "      <td>US</td>\n",
       "      <td>Stock</td>\n",
       "      <td>Retail Trade</td>\n",
       "      <td>NASDAQ</td>\n",
       "      <td>-</td>\n",
       "    </tr>\n",
       "    <tr>\n",
       "      <th>TXG</th>\n",
       "      <td>10x Genomics, Inc</td>\n",
       "      <td>2</td>\n",
       "      <td>Com A</td>\n",
       "      <td>US</td>\n",
       "      <td>Stock</td>\n",
       "      <td>Manufacturing</td>\n",
       "      <td>NASDAQ</td>\n",
       "      <td>-</td>\n",
       "    </tr>\n",
       "    <tr>\n",
       "      <th>GOED</th>\n",
       "      <td>1847 Goedeker Inc</td>\n",
       "      <td>3</td>\n",
       "      <td>Com</td>\n",
       "      <td>US</td>\n",
       "      <td>Stock</td>\n",
       "      <td>Retail Trade</td>\n",
       "      <td>AMEX</td>\n",
       "      <td>-</td>\n",
       "    </tr>\n",
       "    <tr>\n",
       "      <th>ONEM</th>\n",
       "      <td>1life Healthcare, Inc</td>\n",
       "      <td>4</td>\n",
       "      <td>Com</td>\n",
       "      <td>US</td>\n",
       "      <td>Stock</td>\n",
       "      <td>Health Care and Social Assistance</td>\n",
       "      <td>NASDAQ</td>\n",
       "      <td>-</td>\n",
       "    </tr>\n",
       "    <tr>\n",
       "      <th>SRCE</th>\n",
       "      <td>1st Source Corp</td>\n",
       "      <td>5</td>\n",
       "      <td>Com</td>\n",
       "      <td>US</td>\n",
       "      <td>Stock</td>\n",
       "      <td>Finance and Insurance</td>\n",
       "      <td>NASDAQ</td>\n",
       "      <td>-</td>\n",
       "    </tr>\n",
       "  </tbody>\n",
       "</table>\n",
       "</div>"
      ],
      "text/plain": [
       "                       Name  N  Class Country\\r\\nof Origin Type of Asset  \\\n",
       "firm                                                                       \n",
       "FLWS  1 800 Flowers Com Inc  1  Com A                   US         Stock   \n",
       "TXG       10x Genomics, Inc  2  Com A                   US         Stock   \n",
       "GOED      1847 Goedeker Inc  3    Com                   US         Stock   \n",
       "ONEM  1life Healthcare, Inc  4    Com                   US         Stock   \n",
       "SRCE        1st Source Corp  5    Com                   US         Stock   \n",
       "\n",
       "                               industry exchange partind  \n",
       "firm                                                      \n",
       "FLWS                       Retail Trade   NASDAQ       -  \n",
       "TXG                       Manufacturing   NASDAQ       -  \n",
       "GOED                       Retail Trade     AMEX       -  \n",
       "ONEM  Health Care and Social Assistance   NASDAQ       -  \n",
       "SRCE              Finance and Insurance   NASDAQ       -  "
      ]
     },
     "execution_count": 39,
     "metadata": {},
     "output_type": "execute_result"
    }
   ],
   "source": [
    "us_firms.head()"
   ]
  },
  {
   "cell_type": "markdown",
   "id": "936d65fc-9a5e-47b2-b9f1-180dc16d9bf4",
   "metadata": {},
   "source": [
    "# Prepare dataframe for business case"
   ]
  },
  {
   "cell_type": "code",
   "execution_count": 40,
   "id": "b513b98c-ae9e-40bb-bfbb-65de06e3c756",
   "metadata": {},
   "outputs": [],
   "source": [
    "firms = stocks.copy()"
   ]
  },
  {
   "cell_type": "markdown",
   "id": "8ebc0047-a7a5-4276-b6bf-90be3202ec52",
   "metadata": {},
   "source": [
    "Peform join on `us_firms` to get industry of each firm."
   ]
  },
  {
   "cell_type": "code",
   "execution_count": null,
   "id": "461fe0ce-8d67-4573-b059-118fb57c56b4",
   "metadata": {},
   "outputs": [],
   "source": [
    "firms = firms.join(\n",
    "    us_firms[\"industry\"],\n",
    "    lsuffix=\"_caller\",\n",
    "    rsuffix=\"_other\",\n",
    "    on=\"firm\"\n",
    ")"
   ]
  },
  {
   "cell_type": "code",
   "execution_count": null,
   "id": "03c54c1e-c9c3-4f65-a318-7193549d5cb6",
   "metadata": {},
   "outputs": [],
   "source": [
    "firms.head()"
   ]
  },
  {
   "cell_type": "markdown",
   "id": "e2d42fe2-c294-4ee1-8ebd-d06bab821e7b",
   "metadata": {},
   "source": [
    "Remove `-` industry from `firms`."
   ]
  },
  {
   "cell_type": "code",
   "execution_count": null,
   "id": "d39bb371-9592-4a07-a161-5b7856187741",
   "metadata": {},
   "outputs": [],
   "source": [
    "firms = firms[firms[\"industry\"] != \"-\"]"
   ]
  },
  {
   "cell_type": "code",
   "execution_count": null,
   "id": "cfa2e4ed-f571-469d-b9b5-a288c8428abf",
   "metadata": {},
   "outputs": [],
   "source": [
    "firms[\"industry\"].isin([\"-\"]).sum()"
   ]
  },
  {
   "cell_type": "markdown",
   "id": "447d2b0a-c67a-49e4-8ad7-dfe300e644f6",
   "metadata": {},
   "source": [
    "# Get financial metrics"
   ]
  },
  {
   "cell_type": "markdown",
   "id": "e7e7a665-d2b0-4644-847e-6260274089ad",
   "metadata": {},
   "source": [
    "The following financial metrics will be computed. It must be noted that the shifting is done by grouping with `groupby` by level 0, that is, by `firm` so that each column is correctly shifted by firm."
   ]
  },
  {
   "cell_type": "code",
   "execution_count": null,
   "id": "37d33c6d-8249-48a2-82f8-4e94c6df5543",
   "metadata": {},
   "outputs": [],
   "source": [
    "firms[\"cc returns\"] = np.log(firms[\"adjprice\"]) - np.log(firms.groupby(level=0)[\"adjprice\"].shift(1))"
   ]
  },
  {
   "cell_type": "code",
   "execution_count": null,
   "id": "0478aaca-9596-4d98-9832-a7405fbd9099",
   "metadata": {},
   "outputs": [],
   "source": [
    "firms[\"market value\"] = firms[\"originalprice\"] * firms[\"sharesoutstanding\"]"
   ]
  },
  {
   "cell_type": "code",
   "execution_count": null,
   "id": "575314ff-b1a8-4ef6-b011-048e0896e33b",
   "metadata": {},
   "outputs": [],
   "source": [
    "firms[\"book value\"] = firms[\"totalassets\"] - firms[\"totalliabilities\"]"
   ]
  },
  {
   "cell_type": "code",
   "execution_count": null,
   "id": "7ba3e72e-bb2d-4ca5-97e7-3f6f6197ab67",
   "metadata": {},
   "outputs": [],
   "source": [
    "firms[\"ebit\"] = firms[\"revenue\"] - firms[\"cogs\"] - firms[\"sgae\"] - firms[\"otheropexp\"]"
   ]
  },
  {
   "cell_type": "code",
   "execution_count": null,
   "id": "2274d192-ae9b-4f7a-8302-430ed22c5fe7",
   "metadata": {},
   "outputs": [],
   "source": [
    "firms[\"net income\"] = firms[\"ebit\"] - firms[\"finexp\"] - firms[\"incometax\"] + firms[\"extraincome\"]"
   ]
  },
  {
   "cell_type": "code",
   "execution_count": null,
   "id": "7676b7c4-f453-4ca2-83fd-a065689cdd2d",
   "metadata": {},
   "outputs": [],
   "source": [
    "firms[\"book-to-market ratio\"] = firms[\"book value\"] / firms[\"market value\"]"
   ]
  },
  {
   "cell_type": "markdown",
   "id": "1ddf264f-52ac-42cb-bc7c-166234f05774",
   "metadata": {},
   "source": [
    "The below operations involve the division by zero in some instances, so every zero value in the denominator will be replaced with a `nan` value."
   ]
  },
  {
   "cell_type": "code",
   "execution_count": null,
   "id": "81699c4c-b14b-4945-9f3d-a90365175ce2",
   "metadata": {},
   "outputs": [],
   "source": [
    "firms[\"sales annual growth\"] = firms[\"revenue\"] \\\n",
    "    / firms.groupby(level=0)[\"revenue\"].shift(4).replace(0, np.nan) - 1"
   ]
  },
  {
   "cell_type": "code",
   "execution_count": null,
   "id": "da7589f2-68a8-490d-8109-08f9e23621a1",
   "metadata": {},
   "outputs": [],
   "source": [
    "firms[\"operating profit growth\"] = firms[\"ebit\"] \\\n",
    "    / firms.groupby(level=0)[\"ebit\"].shift(4).replace(0, np.nan) - 1"
   ]
  },
  {
   "cell_type": "code",
   "execution_count": null,
   "id": "e7d72e9d-8270-488c-8753-33818cf72f15",
   "metadata": {},
   "outputs": [],
   "source": [
    "firms[\"operating profit margin\"] = firms[\"ebit\"] / firms[\"revenue\"].replace(0, np.nan)  # Avoid division by 0"
   ]
  },
  {
   "cell_type": "code",
   "execution_count": null,
   "id": "08c0d313-3155-4384-8ec4-8307e9a56e9a",
   "metadata": {},
   "outputs": [],
   "source": [
    "firms[\"short financial leverage\"] = firms[\"shortdebt\"] / firms[\"totalassets\"].replace(0, np.nan)"
   ]
  },
  {
   "cell_type": "code",
   "execution_count": null,
   "id": "f382c86f-4a45-42f7-9afc-22bdeee5b3a6",
   "metadata": {},
   "outputs": [],
   "source": [
    "firms[\"long financial leverage\"] = firms[\"longdebt\"] / firms[\"totalassets\"].replace(0, np.nan)"
   ]
  },
  {
   "cell_type": "code",
   "execution_count": null,
   "id": "9266e31b-3b89-4d7a-9e70-00a7beb0f9d6",
   "metadata": {},
   "outputs": [],
   "source": [
    "firms[\"eps\"] = firms[\"net income\"] / firms[\"sharesoutstanding\"].replace(0, np.nan)"
   ]
  },
  {
   "cell_type": "code",
   "execution_count": null,
   "id": "d45d1d17-4143-4b28-961f-454d4a9a4181",
   "metadata": {},
   "outputs": [],
   "source": [
    "firms[\"epsp\"] = firms[\"eps\"] / firms[\"originalprice\"].replace(0, np.nan)"
   ]
  },
  {
   "cell_type": "markdown",
   "id": "55cd6e5d-48bc-4a0a-9e30-4ef59a4df904",
   "metadata": {},
   "source": [
    "# Firm size by industry"
   ]
  },
  {
   "cell_type": "markdown",
   "id": "a25c4d6d-5b23-4683-b23d-d53c9eb469fb",
   "metadata": {},
   "source": [
    "## Market value"
   ]
  },
  {
   "cell_type": "markdown",
   "id": "62ae6089-eb4f-4b66-b025-196cb1ec56f7",
   "metadata": {},
   "source": [
    "To get a sense of the market value by firm, a histogram is plotted."
   ]
  },
  {
   "cell_type": "code",
   "execution_count": null,
   "id": "6cd1faf4-199b-4970-a10c-0ed88430ace0",
   "metadata": {},
   "outputs": [],
   "source": [
    "hist = sns.histplot(\n",
    "    firms, x=\"market value\", bins=100,\n",
    "    hue=\"industry\", common_norm=False\n",
    ")\n",
    "\n",
    "sns.move_legend(hist, \"lower center\", bbox_to_anchor=(0.5, -1.25), title=\"Industry\")\n",
    "\n",
    "plt.show()"
   ]
  },
  {
   "cell_type": "markdown",
   "id": "e74a0c9e-a512-41d6-ac84-bf08ee8398b6",
   "metadata": {},
   "source": [
    "The above histogram denotes that regardless of industry the market value of firms, once plotted in a histogram, is skewed to the left. This is due to the few companies that achieve to become very valuable (Apple, Walmart, Amazon, etc.)."
   ]
  },
  {
   "cell_type": "markdown",
   "id": "c379a0cc-276f-49d1-a1df-032984e2a73a",
   "metadata": {},
   "source": [
    "## Book value "
   ]
  },
  {
   "cell_type": "markdown",
   "id": "31b0f39b-32e0-4f11-b544-dc784e53cf74",
   "metadata": {},
   "source": [
    "Applying the same logic as before, a histogram for book values is plotted."
   ]
  },
  {
   "cell_type": "code",
   "execution_count": null,
   "id": "353accb1-aca2-4254-a337-442ecb5ec547",
   "metadata": {},
   "outputs": [],
   "source": [
    "hist = sns.histplot(\n",
    "    firms, x=\"book value\", bins=100,\n",
    "    hue=\"industry\", common_norm=False\n",
    ")\n",
    "\n",
    "sns.move_legend(hist, \"lower center\", bbox_to_anchor=(0.5, -1.25), title=\"Industry\")\n",
    "\n",
    "plt.show()"
   ]
  },
  {
   "cell_type": "markdown",
   "id": "2db0e572-f782-4326-bf69-a27c4fc33916",
   "metadata": {},
   "source": [
    "Contrary to the market value, book value is not as skewed to the left as market value is. However, this trend is also independent of industry."
   ]
  },
  {
   "cell_type": "markdown",
   "id": "99d0979f-4f8b-4aef-8e99-b35acb0743e3",
   "metadata": {},
   "source": [
    "# Firms sales performance and profitability"
   ]
  },
  {
   "cell_type": "markdown",
   "id": "b5be19ec-9b03-47d4-b854-646facc3ab8d",
   "metadata": {},
   "source": [
    "## Net income"
   ]
  },
  {
   "cell_type": "code",
   "execution_count": null,
   "id": "21f24a5d-d17d-4d43-80b7-ea9e43dbbe5a",
   "metadata": {},
   "outputs": [],
   "source": [
    "hist = sns.histplot(\n",
    "    firms, x=\"net income\", bins=100,\n",
    "    hue=\"industry\", common_norm=False\n",
    ")\n",
    "\n",
    "sns.move_legend(hist, \"lower center\", bbox_to_anchor=(0.5, -1.25), title=\"Industry\")\n",
    "\n",
    "plt.show()"
   ]
  },
  {
   "cell_type": "markdown",
   "id": "6cc5fff8-2844-4ed6-8083-447c9143b58c",
   "metadata": {},
   "source": [
    "The above histogram shows that the vast majority of firms have net incomes that hardly exceed 2.5 billion dollars."
   ]
  },
  {
   "cell_type": "markdown",
   "id": "cfc808bd-b164-4f9a-a2af-66f81a9a52cd",
   "metadata": {},
   "source": [
    "## EPSP"
   ]
  },
  {
   "cell_type": "code",
   "execution_count": null,
   "id": "85da66ed-75bc-44f8-9c09-b3fb0a74016a",
   "metadata": {},
   "outputs": [],
   "source": [
    "hist = sns.histplot(\n",
    "    firms, x=\"epsp\", bins=100,\n",
    "    hue=\"industry\", common_norm=False\n",
    ")\n",
    "\n",
    "sns.move_legend(hist, \"lower center\", bbox_to_anchor=(0.5, -1.25), title=\"Industry\")\n",
    "\n",
    "plt.show()"
   ]
  },
  {
   "cell_type": "markdown",
   "id": "2be125f4-7005-4d74-9034-0d4354573b3d",
   "metadata": {},
   "source": [
    "However, when the histogram is plotted for `epsp`, then it becomes skewed to the right."
   ]
  },
  {
   "cell_type": "markdown",
   "id": "1c8e1ec2-5a89-42ca-a236-b06ab949a94c",
   "metadata": {},
   "source": [
    "# Firms by industry (descriptive statistics)"
   ]
  },
  {
   "cell_type": "markdown",
   "id": "8835512c-56b7-412c-8f1e-e11f85fec2fb",
   "metadata": {},
   "source": [
    "For the business case only descriptive statistics for the last quarter will be calculated."
   ]
  },
  {
   "cell_type": "code",
   "execution_count": null,
   "id": "cd8aa2bc-e581-4eca-ada7-9d526f87c803",
   "metadata": {},
   "outputs": [],
   "source": [
    "last_quarter = firms.index.levels[1][-1]"
   ]
  },
  {
   "cell_type": "code",
   "execution_count": null,
   "id": "7631eea4-f4f6-42d2-9c73-eb05b8686a3e",
   "metadata": {},
   "outputs": [],
   "source": [
    "firms_last_quarter = firms.loc[:, last_quarter, :]"
   ]
  },
  {
   "cell_type": "code",
   "execution_count": null,
   "id": "48d6b7c9-6db4-4316-a566-ed15f2ef693e",
   "metadata": {},
   "outputs": [],
   "source": [
    "firms_last_quarter.head()"
   ]
  },
  {
   "cell_type": "markdown",
   "id": "75378e2b-a641-4647-af4f-f3c0671453ba",
   "metadata": {},
   "source": [
    "A histogram is plotted to get the most predominant industry by number of firms."
   ]
  },
  {
   "cell_type": "code",
   "execution_count": null,
   "id": "5f6b30e5-be40-4462-885c-7865e1e94ec8",
   "metadata": {},
   "outputs": [],
   "source": [
    "sns.histplot(\n",
    "    data=firms_last_quarter,\n",
    "    y=\"industry\",\n",
    "    hue=\"industry\",\n",
    "    common_norm=False,\n",
    "    legend=False\n",
    ");"
   ]
  },
  {
   "cell_type": "markdown",
   "id": "70ead71f-93e5-40c8-a224-ed3578f75844",
   "metadata": {},
   "source": [
    "From the above histogram it can be concluded that the most predominant industry is manufacturing while the less predominant is educational services. The former can also be seen numerically:"
   ]
  },
  {
   "cell_type": "code",
   "execution_count": null,
   "id": "4bdc9595-261d-43d0-9fe4-c222c2207fa6",
   "metadata": {},
   "outputs": [],
   "source": [
    "firms_last_quarter[\"industry\"].value_counts()"
   ]
  },
  {
   "cell_type": "markdown",
   "id": "423a4268-c254-497c-a340-e1e1b42a1225",
   "metadata": {},
   "source": [
    "### Book value by industry"
   ]
  },
  {
   "cell_type": "code",
   "execution_count": null,
   "id": "a796cb13-ecc3-46ba-b6a6-7c7b3ddf8374",
   "metadata": {},
   "outputs": [],
   "source": [
    "hist = sns.histplot(\n",
    "    firms_last_quarter, x=\"book value\", bins=60,\n",
    "    hue=\"industry\", common_norm=False\n",
    ")\n",
    "\n",
    "sns.move_legend(hist, \"lower center\", bbox_to_anchor=(0.5, 1.0), title=\"Industry\")\n",
    "\n",
    "plt.show()"
   ]
  },
  {
   "cell_type": "markdown",
   "id": "0e23df14-3bff-46be-9080-cd0260ef2001",
   "metadata": {},
   "source": [
    "### Market value by industry"
   ]
  },
  {
   "cell_type": "code",
   "execution_count": null,
   "id": "c52cbe9d-1e94-43a4-a471-9440d2036e03",
   "metadata": {},
   "outputs": [],
   "source": [
    "hist = sns.histplot(\n",
    "    firms_last_quarter, x=\"market value\", bins=60,\n",
    "    hue=\"industry\", common_norm=False\n",
    ")\n",
    "\n",
    "sns.move_legend(hist, \"lower center\", bbox_to_anchor=(0.5, 1.0), title=\"Industry\")\n",
    "\n",
    "plt.show()"
   ]
  },
  {
   "cell_type": "markdown",
   "id": "73c26c0b-cc1b-4621-975a-f639fc98c360",
   "metadata": {},
   "source": [
    "By examining the above histograms, it can be seen that both the market value and book value of the firms across different industries are skewed to the left. Because of this, to get a sense of the typical of these metrics, the median of both metrics is measured."
   ]
  },
  {
   "cell_type": "code",
   "execution_count": null,
   "id": "f106ffe8-b73c-4cc1-93f0-081c2b963154",
   "metadata": {},
   "outputs": [],
   "source": [
    "firms_last_quarter.index.values"
   ]
  },
  {
   "cell_type": "code",
   "execution_count": null,
   "id": "c96d1d8a-4e60-48bd-86f0-bd1f7c971440",
   "metadata": {},
   "outputs": [],
   "source": [
    "typical_market_value = {\n",
    "    industry: firms_last_quarter[\"market value\"].median()\n",
    "    for industry in firms_last_quarter[\"industry\"].value_counts().keys()\n",
    "}"
   ]
  },
  {
   "cell_type": "code",
   "execution_count": null,
   "id": "4dd9dd31-cbc2-4a4b-9222-99a1d5aeb807",
   "metadata": {},
   "outputs": [],
   "source": [
    "typical_market_value = pd.DataFrame(\n",
    "    data={\n",
    "        \"industry\": typical_market_value.keys(),\n",
    "        \"median market value\": typical_market_value.values()\n",
    "    }\n",
    ")"
   ]
  },
  {
   "cell_type": "code",
   "execution_count": null,
   "id": "ac7b63e8-3f5e-4e71-af7e-70938445c382",
   "metadata": {},
   "outputs": [],
   "source": [
    "typical_book_value = {\n",
    "    industry: firms_last_quarter[\"book value\"].median()\n",
    "    for industry in firms_last_quarter[\"industry\"].value_counts().keys()\n",
    "}"
   ]
  },
  {
   "cell_type": "code",
   "execution_count": null,
   "id": "e1d92cf1-85bc-4010-a87b-3400580ea9f3",
   "metadata": {},
   "outputs": [],
   "source": [
    "typical_book_value = pd.DataFrame(\n",
    "    data={\n",
    "        \"industry\": typical_book_value.keys(),\n",
    "        \"median book value\": typical_book_value.values()\n",
    "    }\n",
    ")"
   ]
  },
  {
   "cell_type": "code",
   "execution_count": null,
   "id": "2e3ba2bd-db99-4819-9d20-f00678d3cf75",
   "metadata": {},
   "outputs": [],
   "source": [
    "typical_book_value.head()"
   ]
  },
  {
   "cell_type": "code",
   "execution_count": null,
   "id": "8805ed6e-0206-484e-96de-920469ebc4ec",
   "metadata": {},
   "outputs": [],
   "source": [
    "bar = sns.barplot(data=typical_market_value, x=\"median market value\", y=\"industry\", hue=\"industry\", dodge=False)\n",
    "\n",
    "sns.move_legend(bar, \"lower center\", bbox_to_anchor=(0.5, 1.0), title=\"Industry\", )\n",
    "\n",
    "plt.show()"
   ]
  },
  {
   "cell_type": "code",
   "execution_count": null,
   "id": "c52b4f72-b6b1-4f16-a16d-c33a80383515",
   "metadata": {},
   "outputs": [],
   "source": [
    "bar = sns.barplot(data=typical_book_value, x=\"median book value\", y=\"industry\", hue=\"industry\", dodge=False)\n",
    "\n",
    "sns.move_legend(bar, \"lower center\", bbox_to_anchor=(0.5, 1.0), title=\"Industry\")\n",
    "\n",
    "plt.show()"
   ]
  },
  {
   "cell_type": "code",
   "execution_count": null,
   "id": "4b428c4e-6a40-4676-aa13-47665a59c28b",
   "metadata": {},
   "outputs": [],
   "source": [
    "typical_firm_size = typical_market_value.merge(typical_book_value, on=\"industry\")"
   ]
  },
  {
   "cell_type": "code",
   "execution_count": null,
   "id": "2e0dee6f-afc1-4abe-b67f-fb412dc32e17",
   "metadata": {},
   "outputs": [],
   "source": [
    "typical_firm_size.head()"
   ]
  },
  {
   "cell_type": "markdown",
   "id": "4e1cec4f-392b-4554-a583-64f9f170f560",
   "metadata": {},
   "source": [
    "## Statistical modeling"
   ]
  },
  {
   "cell_type": "markdown",
   "id": "7f5bcab3-f035-46da-ae9e-70c9a0fd6d41",
   "metadata": {},
   "source": [
    "### Winsorization"
   ]
  },
  {
   "cell_type": "code",
   "execution_count": null,
   "id": "1b83d66c-ff1e-4708-a16e-2969301db4b6",
   "metadata": {},
   "outputs": [],
   "source": [
    "firms_manufacturing = firms[firms[\"industry\"] == \"Manufacturing\"]"
   ]
  },
  {
   "cell_type": "code",
   "execution_count": null,
   "id": "2825bb78-9a72-48f1-8fb4-b89954941fad",
   "metadata": {},
   "outputs": [],
   "source": [
    "firms_manufacturing[\"industry\"].value_counts()"
   ]
  },
  {
   "cell_type": "markdown",
   "id": "3bca7432-1381-4a24-92ac-4885de846e65",
   "metadata": {},
   "source": [
    "Perform a 2% winzorization"
   ]
  },
  {
   "cell_type": "code",
   "execution_count": null,
   "id": "cfb2b732-993d-449b-a579-d8071b3e3c82",
   "metadata": {},
   "outputs": [],
   "source": [
    "firmss_manufacturing = firms_manufacturing.clip(  # Winsorize dataset to remove most outliers\n",
    "    lower=firms_manufacturing.quantile(0.02),\n",
    "    upper=firms_manufacturing.quantile(0.98),\n",
    "    axis=1\n",
    ")"
   ]
  },
  {
   "cell_type": "code",
   "execution_count": null,
   "id": "f0707dc9-50d4-4cb9-a9ec-c3c23944f4c0",
   "metadata": {},
   "outputs": [],
   "source": [
    "firms_manufacturing[\"market value\"].quantile(1/3)"
   ]
  },
  {
   "cell_type": "code",
   "execution_count": null,
   "id": "38c840bb-12c8-4ebb-a3df-f6b3e45dd9dc",
   "metadata": {},
   "outputs": [],
   "source": [
    "firms_manufacturing[\"firm size\"] = np.where(\n",
    "    firms_manufacturing[\"market value\"] < firms_manufacturing[\"market value\"].quantile(1/3),\n",
    "    \"small\",\n",
    "    \"medium\"\n",
    ")"
   ]
  },
  {
   "cell_type": "code",
   "execution_count": null,
   "id": "bff157b4-f1d5-4d3f-8f5d-31d3ecfd7016",
   "metadata": {},
   "outputs": [],
   "source": [
    "stocks_manufacturing[\"firm size\"] = np.where(\n",
    "    stocks_manufacturing[\"market value\"] >= stocks_manufacturing[\"market value\"].quantile(2/3),\n",
    "    \"big\",\n",
    "    stocks_manufacturing[\"firm size\"]\n",
    ")"
   ]
  },
  {
   "cell_type": "code",
   "execution_count": null,
   "id": "63d92164-2e7d-423b-9757-3a58bb7e6fec",
   "metadata": {},
   "outputs": [],
   "source": [
    "stocks_manufacturing[\"firm size\"].value_counts()"
   ]
  },
  {
   "cell_type": "code",
   "execution_count": null,
   "id": "e7bc0cdd-6908-4064-8d72-185f19e55f4c",
   "metadata": {},
   "outputs": [],
   "source": [
    "dummy_columns = pd.get_dummies(stocks_manufacturing[\"firm size\"])"
   ]
  },
  {
   "cell_type": "code",
   "execution_count": null,
   "id": "8a3a4f98-5259-4d6f-8ca1-3b585baf1c6e",
   "metadata": {},
   "outputs": [],
   "source": [
    "stocks_manufacturing = stocks_manufacturing.merge(dummy_columns, on=[\"firm\", \"q\"])"
   ]
  },
  {
   "cell_type": "code",
   "execution_count": null,
   "id": "f0d2b444-c73a-4c4b-91c9-95fb4246e91d",
   "metadata": {},
   "outputs": [],
   "source": [
    "dependent_variable = \"cc returns\""
   ]
  },
  {
   "cell_type": "code",
   "execution_count": null,
   "id": "23dcb961-2d90-4ff8-baf9-52494afad23c",
   "metadata": {},
   "outputs": [],
   "source": [
    "independent_variables = [\n",
    "    \"eps\",\n",
    "    \"net income\",\n",
    "    \"operating profit margin\",\n",
    "    \"operating profit growth\",\n",
    "    \"sales annual growth\", \n",
    "    \"ebit\",\n",
    "    \"short financial leverage\",\n",
    "    \"long financial leverage\",\n",
    "    \"book-to-market ratio\"\n",
    "]"
   ]
  },
  {
   "cell_type": "code",
   "execution_count": null,
   "id": "cd0fcdc4-1f79-46c4-8286-6351efed5e8f",
   "metadata": {},
   "outputs": [],
   "source": [
    "dummies = [\n",
    "    \"small\",\n",
    "    \"medium\",\n",
    "    \"big\"\n",
    "]"
   ]
  },
  {
   "cell_type": "code",
   "execution_count": null,
   "id": "28381410-8f85-4937-8a98-bdd79d607426",
   "metadata": {},
   "outputs": [],
   "source": [
    "columns = [dependent_variable] + independent_variables + dummies"
   ]
  },
  {
   "cell_type": "code",
   "execution_count": null,
   "id": "139f4cd1-71a7-451a-91d8-5385a27423c9",
   "metadata": {},
   "outputs": [],
   "source": [
    "stats_model = stocks_manufacturing[columns]"
   ]
  },
  {
   "cell_type": "markdown",
   "id": "1b25cd39-96c0-495d-bd7d-5f0657c7bba7",
   "metadata": {},
   "source": [
    "Apply min-max normalization to values."
   ]
  },
  {
   "cell_type": "code",
   "execution_count": null,
   "id": "5547bfb0-60e0-4523-9e47-492c8ac7342f",
   "metadata": {},
   "outputs": [],
   "source": [
    "stats_model = pd.DataFrame(\n",
    "    MinMaxScaler().fit_transform(stats_model),\n",
    "    columns=columns\n",
    ")"
   ]
  },
  {
   "cell_type": "code",
   "execution_count": null,
   "id": "4e96a285-35f5-407e-a8a9-584748d6157f",
   "metadata": {},
   "outputs": [],
   "source": [
    "stats_model.describe()"
   ]
  },
  {
   "cell_type": "code",
   "execution_count": null,
   "id": "a5738278-8ce4-4ed7-83fc-76eed9cbb0b8",
   "metadata": {},
   "outputs": [],
   "source": [
    "fig, axes = plt.subplots(nrows=3, ncols=3, figsize=(15,12))\n",
    "\n",
    "n_fig = 0\n",
    "\n",
    "for ivar in independent_variables:\n",
    "    splot = sns.scatterplot(\n",
    "        data=stats_model,\n",
    "        x=ivar,\n",
    "        y=dependent_variable,\n",
    "        ax=axes[n_fig // 3, n_fig % 3]\n",
    "    )\n",
    "    \n",
    "    n_fig += 1\n",
    "    \n",
    "fig.tight_layout()"
   ]
  },
  {
   "cell_type": "markdown",
   "id": "8081614d-19f5-486d-9193-f14b73c9d215",
   "metadata": {},
   "source": [
    "As it can be seen from the above histogram, there is no linear regression in any of the considered parameters. However, to train the linear regression for this deliverable, `net income`, `short financial leverage`, `sales annual growth`, and `eps` will be used for the model as they appear to have at least some degree of linear behaviour compared to the rest of variables that do not seem to be lineary related."
   ]
  },
  {
   "cell_type": "code",
   "execution_count": null,
   "id": "5a7b9536-5337-4a5f-b5e0-c9015e4e08f0",
   "metadata": {},
   "outputs": [],
   "source": [
    "independent_variables_model = [\"eps\", \"net income\", \"short financial leverage\", \"sales annual growth\"]"
   ]
  },
  {
   "cell_type": "code",
   "execution_count": null,
   "id": "10bca52f-50ff-4a52-8423-a5c0d47e55b3",
   "metadata": {},
   "outputs": [],
   "source": [
    "fig, axes = plt.subplots(nrows=4, ncols=1, figsize=(15,12))\n",
    "\n",
    "n_fig = 0\n",
    "\n",
    "for ivar in independent_variables_model:\n",
    "    hist = sns.histplot(stats_model, x=ivar, ax=axes[n_fig])\n",
    "    n_fig += 1\n",
    "    \n",
    "plt.tight_layout()"
   ]
  },
  {
   "cell_type": "markdown",
   "id": "269be399-6f75-4aad-bde1-bb9df90594f2",
   "metadata": {},
   "source": [
    "From the above histograms, it is possible to get a sense of the typical values for each of the factors. Because three of the histograms are skewed to the left, the typical value of these factor will correspond to the median. For the `eps` factor the mean is more appropiate sinde the distribution appears to have a normal behaviour."
   ]
  },
  {
   "cell_type": "markdown",
   "id": "7d7e2479-070e-4870-9e29-6b5a401b4486",
   "metadata": {},
   "source": [
    "Another remarkable insight is that histogram still present some outliers at their tails even after applying winsorization of 1% to the data."
   ]
  },
  {
   "cell_type": "code",
   "execution_count": null,
   "id": "8cec4af6-34e9-43ee-a33b-0d9e9af446ee",
   "metadata": {},
   "outputs": [],
   "source": [
    "typical_eps = stats_model[\"eps\"].mean()"
   ]
  },
  {
   "cell_type": "code",
   "execution_count": null,
   "id": "9719715b-a2ce-462b-b761-0d2d9a92441b",
   "metadata": {},
   "outputs": [],
   "source": [
    "typical_net_income = stats_model[\"net income\"].median()"
   ]
  },
  {
   "cell_type": "code",
   "execution_count": null,
   "id": "328d0e73-5f1e-4937-9ef2-19e5d43e4560",
   "metadata": {},
   "outputs": [],
   "source": [
    "typical_short_financial_leverage = stats_model[\"short financial leverage\"].median()"
   ]
  },
  {
   "cell_type": "code",
   "execution_count": null,
   "id": "58c76442-ee38-49a6-b922-92c977fe4d14",
   "metadata": {},
   "outputs": [],
   "source": [
    "typical_sales_annual_growth = stats_model[\"sales annual growth\"].median()"
   ]
  },
  {
   "cell_type": "code",
   "execution_count": null,
   "id": "078b7523-b2fb-4329-8f42-3f50cc754781",
   "metadata": {},
   "outputs": [],
   "source": [
    "print(\"Typical eps:\", typical_eps)"
   ]
  },
  {
   "cell_type": "code",
   "execution_count": null,
   "id": "6fa6250e-9165-42ee-bf72-aa9040229be8",
   "metadata": {},
   "outputs": [],
   "source": [
    "print(\"Typical net income:\", typical_net_income)"
   ]
  },
  {
   "cell_type": "code",
   "execution_count": null,
   "id": "791b2677-7144-40ac-bb14-8198dfc80697",
   "metadata": {},
   "outputs": [],
   "source": [
    "print(\"Typical short financial leverage:\", typical_short_financial_leverage)"
   ]
  },
  {
   "cell_type": "code",
   "execution_count": null,
   "id": "8a11823a-f649-4193-b684-16a513f7d6c0",
   "metadata": {},
   "outputs": [],
   "source": [
    "print(\"Typical sales annual growth:\", typical_sales_annual_growth)"
   ]
  },
  {
   "cell_type": "markdown",
   "id": "3d2544b9-815b-46a4-b193-eb098aeef0f2",
   "metadata": {},
   "source": [
    "Additionally, to get a sense of the dispersion of the chosen factor, the standard deviation can be calculated for each factor."
   ]
  },
  {
   "cell_type": "code",
   "execution_count": null,
   "id": "c2dce736-c16e-4684-b467-ffe9fea759cf",
   "metadata": {},
   "outputs": [],
   "source": [
    "eps_std = stats_model[\"eps\"].std()"
   ]
  },
  {
   "cell_type": "code",
   "execution_count": null,
   "id": "5ab362d9-6ef0-4ab4-a870-9e041cb7ddb8",
   "metadata": {},
   "outputs": [],
   "source": [
    "net_income_std = stats_model[\"net income\"].std()"
   ]
  },
  {
   "cell_type": "code",
   "execution_count": null,
   "id": "394faaac-356c-4319-aa3e-ad3bcb32c81b",
   "metadata": {},
   "outputs": [],
   "source": [
    "short_financial_leverage_std = stats_model[\"short financial leverage\"].std()"
   ]
  },
  {
   "cell_type": "code",
   "execution_count": null,
   "id": "94d3d7c3-a14e-4696-abaa-b140a695e390",
   "metadata": {},
   "outputs": [],
   "source": [
    "sales_annual_growth_std = stats_model[\"sales annual growth\"].std()"
   ]
  },
  {
   "cell_type": "code",
   "execution_count": null,
   "id": "b5d5ffde-2e8e-412b-9f54-4cacaae1f72b",
   "metadata": {},
   "outputs": [],
   "source": [
    "print(\"eps standard deviation:\", eps_std)"
   ]
  },
  {
   "cell_type": "code",
   "execution_count": null,
   "id": "67588597-04cd-4a12-818e-c46fba1fb1df",
   "metadata": {},
   "outputs": [],
   "source": [
    "print(\"Net income standard deviation:\", net_income_std)"
   ]
  },
  {
   "cell_type": "code",
   "execution_count": null,
   "id": "2699b2c4-cf1c-4860-95d4-7b9de2a66f8c",
   "metadata": {},
   "outputs": [],
   "source": [
    "print(\"Short financial leverage standard deviation:\", short_financial_leverage_std)"
   ]
  },
  {
   "cell_type": "code",
   "execution_count": null,
   "id": "88a06de5-f172-40cb-ae64-d39c784894f1",
   "metadata": {},
   "outputs": [],
   "source": [
    "print(\"Sales annual growth standard deviation:\", sales_annual_growth_std)"
   ]
  },
  {
   "cell_type": "markdown",
   "id": "49143bdd-19a8-4ecd-b5b8-b4a68ed8498c",
   "metadata": {},
   "source": [
    "# Multiple regression"
   ]
  },
  {
   "cell_type": "code",
   "execution_count": null,
   "id": "d5ca4399-c095-4590-8101-4dffff708432",
   "metadata": {},
   "outputs": [],
   "source": [
    "stats_model"
   ]
  },
  {
   "cell_type": "code",
   "execution_count": null,
   "id": "3d8f98c4-c50f-4427-88d8-ce58c9d3a27d",
   "metadata": {},
   "outputs": [],
   "source": [
    "X = stats_model[independent_variables_model+dummies]"
   ]
  },
  {
   "cell_type": "code",
   "execution_count": null,
   "id": "2f9b5000-98ec-4315-b74e-eb024effe512",
   "metadata": {},
   "outputs": [],
   "source": [
    "y = stats_model[[dependent_variable]]"
   ]
  },
  {
   "cell_type": "code",
   "execution_count": null,
   "id": "2d1a3c88-4f36-4cb3-8689-7037ef79e255",
   "metadata": {},
   "outputs": [],
   "source": [
    "X.isna().sum()"
   ]
  },
  {
   "cell_type": "code",
   "execution_count": null,
   "id": "e8b00513-5335-40c9-82d5-123ce2eb7ac1",
   "metadata": {},
   "outputs": [],
   "source": [
    "X.notna().sum()"
   ]
  },
  {
   "cell_type": "code",
   "execution_count": null,
   "id": "d11d684e-6883-4a24-8f08-47ceb9c36717",
   "metadata": {},
   "outputs": [],
   "source": [
    "from statsmodels.stats.outliers_influence import variance_inflation_factor"
   ]
  },
  {
   "cell_type": "code",
   "execution_count": null,
   "id": "ab29b3d2-a5fd-45f5-97fc-3ef90988fb31",
   "metadata": {},
   "outputs": [],
   "source": [
    "X_vif = X.dropna()"
   ]
  },
  {
   "cell_type": "code",
   "execution_count": null,
   "id": "2c8cbfd8-e10a-40cb-b3bf-25ab7c0d8425",
   "metadata": {},
   "outputs": [],
   "source": [
    "vif_df = pd.DataFrame()"
   ]
  },
  {
   "cell_type": "code",
   "execution_count": null,
   "id": "4862f37e-aa7d-4008-b5f1-8d1a68743f9f",
   "metadata": {},
   "outputs": [],
   "source": [
    "vif_df[\"feature\"] = X_vif.columns"
   ]
  },
  {
   "cell_type": "code",
   "execution_count": null,
   "id": "fd146855-d847-443b-82be-bbf7a98b3e0d",
   "metadata": {},
   "outputs": [],
   "source": [
    "vif_df[\"VIF\"] = [\n",
    "    variance_inflation_factor(X_vif.values, i)\n",
    "    for i in range(len(X_vif.columns))\n",
    "]"
   ]
  },
  {
   "cell_type": "code",
   "execution_count": null,
   "id": "ac3e5a2a-0171-49f3-8b53-e6d619d2a555",
   "metadata": {},
   "outputs": [],
   "source": [
    "vif_df"
   ]
  },
  {
   "cell_type": "markdown",
   "id": "568aa98c-a490-4077-b309-1c7bc1423d17",
   "metadata": {},
   "source": [
    "From the above VIF values it can be said that the dummy values may present multicollinearity due to their high VIF values. Multicollinearity is a measure of how correlated some features are and it may hinder the model from distinguishing between their individual effects on the dependent variable."
   ]
  },
  {
   "cell_type": "code",
   "execution_count": null,
   "id": "49673927-23a2-4802-bbf4-9348c92f62d1",
   "metadata": {},
   "outputs": [],
   "source": []
  }
 ],
 "metadata": {
  "kernelspec": {
   "display_name": "Python 3 (ipykernel)",
   "language": "python",
   "name": "python3"
  },
  "language_info": {
   "codemirror_mode": {
    "name": "ipython",
    "version": 3
   },
   "file_extension": ".py",
   "mimetype": "text/x-python",
   "name": "python",
   "nbconvert_exporter": "python",
   "pygments_lexer": "ipython3",
   "version": "3.10.6"
  }
 },
 "nbformat": 4,
 "nbformat_minor": 5
}
