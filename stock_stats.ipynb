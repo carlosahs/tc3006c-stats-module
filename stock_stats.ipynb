{
 "cells": [
  {
   "cell_type": "code",
   "execution_count": null,
   "id": "061689a5-8b77-4d0f-80e8-0f2da9e05462",
   "metadata": {},
   "outputs": [],
   "source": [
    "import pandas as pd\n",
    "import numpy as np\n",
    "import seaborn as sns\n",
    "import matplotlib.pyplot as plt\n",
    "\n",
    "from scipy.stats.mstats import winsorize\n",
    "from sklearn.preprocessing import MinMaxScaler"
   ]
  },
  {
   "cell_type": "markdown",
   "id": "849015d2-a9f2-401b-aeac-8b912c0b471e",
   "metadata": {},
   "source": [
    "# `stocks` dataset"
   ]
  },
  {
   "cell_type": "code",
   "execution_count": null,
   "id": "06e16e66-6150-4836-a0ea-24c62e102aa3",
   "metadata": {},
   "outputs": [],
   "source": [
    "stocks = pd.read_csv(\"stocks.csv\")  # Load stocks dataset"
   ]
  },
  {
   "cell_type": "code",
   "execution_count": null,
   "id": "73b47d89-5007-4197-b3a5-50560a64cd46",
   "metadata": {},
   "outputs": [],
   "source": [
    "stocks[\"q\"] = pd.to_datetime(stocks[\"q\"])  # Update 'q' column so that it is a date"
   ]
  },
  {
   "cell_type": "markdown",
   "id": "491b7c38-2fc7-49c7-82fb-732b5736bc16",
   "metadata": {},
   "source": [
    "# `us_firms` dataset"
   ]
  },
  {
   "cell_type": "code",
   "execution_count": null,
   "id": "17632000-996e-4866-ba0d-097e705e5a46",
   "metadata": {},
   "outputs": [],
   "source": [
    "us_firms = pd.read_csv(\"usfirms2022.csv\")  # Load US firms dataset"
   ]
  },
  {
   "cell_type": "code",
   "execution_count": null,
   "id": "583a02da-af98-4ef9-974a-4e654632e6ab",
   "metadata": {},
   "outputs": [],
   "source": [
    "# Rename columns to more familiar names\n",
    "us_firms = us_firms.rename(columns = {\"Ticker\": \"firm\", \"Sector NAICS\\nlevel 1\": \"industry\"})"
   ]
  },
  {
   "cell_type": "markdown",
   "id": "ef3bbc21-9798-4863-8068-820aaaef4174",
   "metadata": {},
   "source": [
    "# Merge `us_firms` and `stock` dataset"
   ]
  },
  {
   "cell_type": "code",
   "execution_count": null,
   "id": "b513b98c-ae9e-40bb-bfbb-65de06e3c756",
   "metadata": {},
   "outputs": [],
   "source": [
    "stocks = stocks.merge(us_firms[[\"firm\", \"industry\"]], on=\"firm\")"
   ]
  },
  {
   "cell_type": "code",
   "execution_count": null,
   "id": "d39bb371-9592-4a07-a161-5b7856187741",
   "metadata": {},
   "outputs": [],
   "source": [
    "stocks = stocks[stocks[\"industry\"] != \"-\"]"
   ]
  },
  {
   "cell_type": "markdown",
   "id": "73eeb4ab-8e79-4172-83ce-245affda08bd",
   "metadata": {},
   "source": [
    "# Set multiindex"
   ]
  },
  {
   "cell_type": "code",
   "execution_count": null,
   "id": "0045d93d-4534-45fc-be22-9bc9b6e9fa72",
   "metadata": {},
   "outputs": [],
   "source": [
    "multiindex = [\"industry\", \"firm\", \"q\"]"
   ]
  },
  {
   "cell_type": "code",
   "execution_count": null,
   "id": "e2582845-3815-4a33-b83f-8672816c4b4b",
   "metadata": {},
   "outputs": [],
   "source": [
    "stocks.set_index(multiindex, inplace=True)  # Set multidimensional indices"
   ]
  },
  {
   "cell_type": "code",
   "execution_count": null,
   "id": "f21f81cf-01a1-4bfb-a6de-2e9d493e1644",
   "metadata": {},
   "outputs": [],
   "source": [
    "stocks = stocks.sort_values(by=multiindex)  # Sort indices"
   ]
  },
  {
   "cell_type": "code",
   "execution_count": null,
   "id": "764ba339-3b8d-43fe-9a29-c0d1d5efb2ec",
   "metadata": {},
   "outputs": [],
   "source": [
    "stocks.head()"
   ]
  },
  {
   "cell_type": "markdown",
   "id": "447d2b0a-c67a-49e4-8ad7-dfe300e644f6",
   "metadata": {},
   "source": [
    "# Get finance metrics"
   ]
  },
  {
   "cell_type": "code",
   "execution_count": null,
   "id": "37d33c6d-8249-48a2-82f8-4e94c6df5543",
   "metadata": {},
   "outputs": [],
   "source": [
    "stocks[\"cc returns\"] = np.log(stocks[\"adjprice\"]) - np.log(stocks.groupby(level=1)[\"adjprice\"].shift(1))"
   ]
  },
  {
   "cell_type": "code",
   "execution_count": null,
   "id": "0478aaca-9596-4d98-9832-a7405fbd9099",
   "metadata": {},
   "outputs": [],
   "source": [
    "stocks[\"market value\"] = stocks[\"originalprice\"] * stocks[\"sharesoutstanding\"]"
   ]
  },
  {
   "cell_type": "code",
   "execution_count": null,
   "id": "575314ff-b1a8-4ef6-b011-048e0896e33b",
   "metadata": {},
   "outputs": [],
   "source": [
    "stocks[\"book value\"] = stocks[\"totalassets\"] - stocks[\"totalliabilities\"]"
   ]
  },
  {
   "cell_type": "code",
   "execution_count": null,
   "id": "7676b7c4-f453-4ca2-83fd-a065689cdd2d",
   "metadata": {},
   "outputs": [],
   "source": [
    "stocks[\"book-to-market ratio\"] = stocks[\"book value\"] / stocks[\"market value\"]"
   ]
  },
  {
   "cell_type": "code",
   "execution_count": null,
   "id": "7ba3e72e-bb2d-4ca5-97e7-3f6f6197ab67",
   "metadata": {},
   "outputs": [],
   "source": [
    "stocks[\"ebit\"] = stocks[\"revenue\"] - stocks[\"cogs\"] - stocks[\"sgae\"] - stocks[\"otheropexp\"]"
   ]
  },
  {
   "cell_type": "code",
   "execution_count": null,
   "id": "81699c4c-b14b-4945-9f3d-a90365175ce2",
   "metadata": {},
   "outputs": [],
   "source": [
    "stocks[\"sales annual growth\"] = stocks[\"revenue\"] \\\n",
    "    / stocks.groupby(level=1)[\"revenue\"].shift(4).replace(0, np.nan) - 1"
   ]
  },
  {
   "cell_type": "code",
   "execution_count": null,
   "id": "da7589f2-68a8-490d-8109-08f9e23621a1",
   "metadata": {},
   "outputs": [],
   "source": [
    "stocks[\"operating profit growth\"] = stocks[\"ebit\"] \\\n",
    "    / stocks.groupby(level=1)[\"ebit\"].shift(4).replace(0, np.nan) - 1"
   ]
  },
  {
   "cell_type": "code",
   "execution_count": null,
   "id": "e7d72e9d-8270-488c-8753-33818cf72f15",
   "metadata": {},
   "outputs": [],
   "source": [
    "stocks[\"operating profit margin\"] = stocks[\"ebit\"] / stocks[\"revenue\"].replace(0, np.nan)  # Avoid division by 0"
   ]
  },
  {
   "cell_type": "code",
   "execution_count": null,
   "id": "08c0d313-3155-4384-8ec4-8307e9a56e9a",
   "metadata": {},
   "outputs": [],
   "source": [
    "stocks[\"short financial leverage\"] = stocks[\"shortdebt\"] / stocks[\"totalassets\"].replace(0, np.nan)"
   ]
  },
  {
   "cell_type": "code",
   "execution_count": null,
   "id": "f382c86f-4a45-42f7-9afc-22bdeee5b3a6",
   "metadata": {},
   "outputs": [],
   "source": [
    "stocks[\"long financial leverage\"] = stocks[\"longdebt\"] / stocks[\"totalassets\"].replace(0, np.nan)"
   ]
  },
  {
   "cell_type": "code",
   "execution_count": null,
   "id": "2274d192-ae9b-4f7a-8302-430ed22c5fe7",
   "metadata": {},
   "outputs": [],
   "source": [
    "stocks[\"net income\"] = stocks[\"ebit\"] - stocks[\"finexp\"] - stocks[\"incometax\"] + stocks[\"extraincome\"]"
   ]
  },
  {
   "cell_type": "code",
   "execution_count": null,
   "id": "9266e31b-3b89-4d7a-9e70-00a7beb0f9d6",
   "metadata": {},
   "outputs": [],
   "source": [
    "stocks[\"eps\"] = stocks[\"net income\"] / stocks[\"sharesoutstanding\"].replace(0, np.nan)"
   ]
  },
  {
   "cell_type": "code",
   "execution_count": null,
   "id": "d45d1d17-4143-4b28-961f-454d4a9a4181",
   "metadata": {},
   "outputs": [],
   "source": [
    "stocks[\"epsp\"] = stocks[\"eps\"] / stocks[\"originalprice\"].replace(0, np.nan)"
   ]
  },
  {
   "cell_type": "code",
   "execution_count": null,
   "id": "1a1e8993-157f-4f9c-b28f-eac9481c2183",
   "metadata": {},
   "outputs": [],
   "source": [
    "stocks.head()"
   ]
  },
  {
   "cell_type": "markdown",
   "id": "55cd6e5d-48bc-4a0a-9e30-4ef59a4df904",
   "metadata": {},
   "source": [
    "# General questions"
   ]
  },
  {
   "cell_type": "markdown",
   "id": "d059dec0-9b99-47b9-a816-c10e35a38f3b",
   "metadata": {},
   "source": [
    "## Firm size"
   ]
  },
  {
   "cell_type": "markdown",
   "id": "62ae6089-eb4f-4b66-b025-196cb1ec56f7",
   "metadata": {},
   "source": [
    "### Market value"
   ]
  },
  {
   "cell_type": "code",
   "execution_count": null,
   "id": "6cd1faf4-199b-4970-a10c-0ed88430ace0",
   "metadata": {},
   "outputs": [],
   "source": [
    "hist = sns.histplot(\n",
    "    stocks, x=\"market value\", bins=60,\n",
    "    hue=stocks.index.get_level_values(\"industry\"), common_norm=False\n",
    ")\n",
    "\n",
    "sns.move_legend(hist, \"lower center\", bbox_to_anchor=(0.5, 1.05), title=\"Industry\")\n",
    "\n",
    "plt.show()"
   ]
  },
  {
   "cell_type": "code",
   "execution_count": null,
   "id": "fcaa6ec4-46db-4963-a951-a9ebf011cc32",
   "metadata": {},
   "outputs": [],
   "source": [
    "# Log scale net income\n",
    "hist = sns.histplot(\n",
    "    stocks, x=\"market value\", bins=60,\n",
    "    hue=stocks.index.get_level_values(\"industry\"), common_norm=False, log_scale=True\n",
    ")\n",
    "\n",
    "sns.move_legend(hist, \"lower center\", bbox_to_anchor=(0.5, 1.05), title=\"Industry\")\n",
    "\n",
    "plt.show()"
   ]
  },
  {
   "cell_type": "markdown",
   "id": "c379a0cc-276f-49d1-a1df-032984e2a73a",
   "metadata": {},
   "source": [
    "### Book value "
   ]
  },
  {
   "cell_type": "code",
   "execution_count": null,
   "id": "353accb1-aca2-4254-a337-442ecb5ec547",
   "metadata": {},
   "outputs": [],
   "source": [
    "hist = sns.histplot(\n",
    "    stocks, x=\"book value\", bins=60,\n",
    "    hue=stocks.index.get_level_values(\"industry\"), common_norm=False\n",
    ")\n",
    "\n",
    "sns.move_legend(hist, \"lower center\", bbox_to_anchor=(0.5, 1.05), title=\"Industry\")\n",
    "\n",
    "plt.show()"
   ]
  },
  {
   "cell_type": "markdown",
   "id": "99d0979f-4f8b-4aef-8e99-b35acb0743e3",
   "metadata": {},
   "source": [
    "## Sales performance and profitability"
   ]
  },
  {
   "cell_type": "markdown",
   "id": "b5be19ec-9b03-47d4-b854-646facc3ab8d",
   "metadata": {},
   "source": [
    "### Net income"
   ]
  },
  {
   "cell_type": "code",
   "execution_count": null,
   "id": "21f24a5d-d17d-4d43-80b7-ea9e43dbbe5a",
   "metadata": {},
   "outputs": [],
   "source": [
    "hist = sns.histplot(\n",
    "    stocks, x=\"net income\", bins=60,\n",
    "    hue=stocks.index.get_level_values(\"industry\"), common_norm=False\n",
    ")\n",
    "\n",
    "sns.move_legend(hist, \"lower center\", bbox_to_anchor=(0.5, 1.05), title=\"Industry\")\n",
    "\n",
    "plt.show()"
   ]
  },
  {
   "cell_type": "markdown",
   "id": "cfc808bd-b164-4f9a-a2af-66f81a9a52cd",
   "metadata": {},
   "source": [
    "### Earnings per share"
   ]
  },
  {
   "cell_type": "code",
   "execution_count": null,
   "id": "85da66ed-75bc-44f8-9c09-b3fb0a74016a",
   "metadata": {},
   "outputs": [],
   "source": [
    "hist = sns.histplot(\n",
    "    stocks, x=\"eps\", bins=60,\n",
    "    hue=stocks.index.get_level_values(\"industry\"), common_norm=False\n",
    ")\n",
    "\n",
    "sns.move_legend(hist, \"lower center\", bbox_to_anchor=(0.5, 1.05), title=\"Industry\")\n",
    "\n",
    "plt.show()"
   ]
  },
  {
   "cell_type": "markdown",
   "id": "616e4c10-70c4-47a2-88fb-5fe3e56f6956",
   "metadata": {},
   "source": [
    "# Specific questions"
   ]
  },
  {
   "cell_type": "markdown",
   "id": "1c8e1ec2-5a89-42ca-a236-b06ab949a94c",
   "metadata": {},
   "source": [
    "## Descriptive statistics"
   ]
  },
  {
   "cell_type": "markdown",
   "id": "ca0cd1c4-513f-4cfe-bea9-8c65101526b2",
   "metadata": {},
   "source": [
    "### Firms by industry"
   ]
  },
  {
   "cell_type": "code",
   "execution_count": null,
   "id": "cd8aa2bc-e581-4eca-ada7-9d526f87c803",
   "metadata": {},
   "outputs": [],
   "source": [
    "last_quarter = stocks.index.levels[2][-1]"
   ]
  },
  {
   "cell_type": "code",
   "execution_count": null,
   "id": "7631eea4-f4f6-42d2-9c73-eb05b8686a3e",
   "metadata": {},
   "outputs": [],
   "source": [
    "stocks_last_quarter = stocks.loc[:, :, last_quarter]"
   ]
  },
  {
   "cell_type": "code",
   "execution_count": null,
   "id": "48d6b7c9-6db4-4316-a566-ed15f2ef693e",
   "metadata": {},
   "outputs": [],
   "source": [
    "stocks_last_quarter"
   ]
  },
  {
   "cell_type": "code",
   "execution_count": null,
   "id": "5f6b30e5-be40-4462-885c-7865e1e94ec8",
   "metadata": {},
   "outputs": [],
   "source": [
    "hist = sns.histplot(\n",
    "    data=stocks_last_quarter,\n",
    "    y=stocks_last_quarter.index.get_level_values(\"industry\"),\n",
    "    hue=stocks_last_quarter.index.get_level_values(\"industry\"),\n",
    "    common_norm=False\n",
    ")\n",
    "\n",
    "sns.move_legend(hist, \"lower center\", bbox_to_anchor=(0.5, 1.0), title=\"Industry\")\n",
    "\n",
    "plt.show()"
   ]
  },
  {
   "cell_type": "markdown",
   "id": "423a4268-c254-497c-a340-e1e1b42a1225",
   "metadata": {},
   "source": [
    "### Book value by industry"
   ]
  },
  {
   "cell_type": "code",
   "execution_count": null,
   "id": "a796cb13-ecc3-46ba-b6a6-7c7b3ddf8374",
   "metadata": {},
   "outputs": [],
   "source": [
    "hist = sns.histplot(\n",
    "    stocks_last_quarter, x=\"book value\", bins=60,\n",
    "    hue=stocks_last_quarter.index.get_level_values(\"industry\"), common_norm=False\n",
    ")\n",
    "\n",
    "sns.move_legend(hist, \"lower center\", bbox_to_anchor=(0.5, 1.0), title=\"Industry\")\n",
    "\n",
    "plt.show()"
   ]
  },
  {
   "cell_type": "markdown",
   "id": "0e23df14-3bff-46be-9080-cd0260ef2001",
   "metadata": {},
   "source": [
    "### Market value by industry"
   ]
  },
  {
   "cell_type": "code",
   "execution_count": null,
   "id": "c52cbe9d-1e94-43a4-a471-9440d2036e03",
   "metadata": {},
   "outputs": [],
   "source": [
    "hist = sns.histplot(\n",
    "    stocks_last_quarter, x=\"market value\", bins=60,\n",
    "    hue=stocks_last_quarter.index.get_level_values(\"industry\"), common_norm=False\n",
    ")\n",
    "\n",
    "sns.move_legend(hist, \"lower center\", bbox_to_anchor=(0.5, 1.0), title=\"Industry\")\n",
    "\n",
    "plt.show()"
   ]
  },
  {
   "cell_type": "markdown",
   "id": "73c26c0b-cc1b-4621-975a-f639fc98c360",
   "metadata": {},
   "source": [
    "By examining the above histograms, it can be seen that both the market value and book value of the firms across different industries are skewed to the left. Because of this, to get a sense of the typical of these metrics, the median of both metrics is measured."
   ]
  },
  {
   "cell_type": "code",
   "execution_count": null,
   "id": "f106ffe8-b73c-4cc1-93f0-081c2b963154",
   "metadata": {},
   "outputs": [],
   "source": [
    "stocks_last_quarter.index.levels[0].values"
   ]
  },
  {
   "cell_type": "code",
   "execution_count": null,
   "id": "c96d1d8a-4e60-48bd-86f0-bd1f7c971440",
   "metadata": {},
   "outputs": [],
   "source": [
    "typical_market_value = {\n",
    "    industry: stocks_last_quarter.loc[industry, \"market value\"].median()\n",
    "    for industry in stocks_last_quarter.index.levels[0].values\n",
    "}"
   ]
  },
  {
   "cell_type": "code",
   "execution_count": null,
   "id": "4dd9dd31-cbc2-4a4b-9222-99a1d5aeb807",
   "metadata": {},
   "outputs": [],
   "source": [
    "typical_market_value = pd.DataFrame(\n",
    "    data={\n",
    "        \"industry\": typical_market_value.keys(),\n",
    "        \"median market value\": typical_market_value.values()\n",
    "    }\n",
    ")"
   ]
  },
  {
   "cell_type": "code",
   "execution_count": null,
   "id": "ac7b63e8-3f5e-4e71-af7e-70938445c382",
   "metadata": {},
   "outputs": [],
   "source": [
    "typical_book_value = {\n",
    "    industry: stocks_last_quarter.loc[industry, \"book value\"].median()\n",
    "    for industry in stocks_last_quarter.index.levels[0].values\n",
    "}"
   ]
  },
  {
   "cell_type": "code",
   "execution_count": null,
   "id": "e1d92cf1-85bc-4010-a87b-3400580ea9f3",
   "metadata": {},
   "outputs": [],
   "source": [
    "typical_book_value = pd.DataFrame(\n",
    "    data={\n",
    "        \"industry\": typical_book_value.keys(),\n",
    "        \"median book value\": typical_book_value.values()\n",
    "    }\n",
    ")"
   ]
  },
  {
   "cell_type": "code",
   "execution_count": null,
   "id": "2e3ba2bd-db99-4819-9d20-f00678d3cf75",
   "metadata": {},
   "outputs": [],
   "source": [
    "typical_book_value.head()"
   ]
  },
  {
   "cell_type": "code",
   "execution_count": null,
   "id": "8805ed6e-0206-484e-96de-920469ebc4ec",
   "metadata": {},
   "outputs": [],
   "source": [
    "bar = sns.barplot(data=typical_market_value, x=\"median market value\", y=\"industry\", hue=\"industry\", dodge=False)\n",
    "\n",
    "sns.move_legend(bar, \"lower center\", bbox_to_anchor=(0.5, 1.0), title=\"Industry\")\n",
    "\n",
    "plt.show()"
   ]
  },
  {
   "cell_type": "code",
   "execution_count": null,
   "id": "c52b4f72-b6b1-4f16-a16d-c33a80383515",
   "metadata": {},
   "outputs": [],
   "source": [
    "bar = sns.barplot(data=typical_book_value, x=\"median book value\", y=\"industry\", hue=\"industry\", dodge=False)\n",
    "\n",
    "sns.move_legend(bar, \"lower center\", bbox_to_anchor=(0.5, 1.0), title=\"Industry\")\n",
    "\n",
    "plt.show()"
   ]
  },
  {
   "cell_type": "code",
   "execution_count": null,
   "id": "4b428c4e-6a40-4676-aa13-47665a59c28b",
   "metadata": {},
   "outputs": [],
   "source": [
    "typical_firm_size = typical_market_value.merge(typical_book_value, on=\"industry\")"
   ]
  },
  {
   "cell_type": "code",
   "execution_count": null,
   "id": "2e0dee6f-afc1-4abe-b67f-fb412dc32e17",
   "metadata": {},
   "outputs": [],
   "source": [
    "typical_firm_size.head()"
   ]
  },
  {
   "cell_type": "markdown",
   "id": "4e1cec4f-392b-4554-a583-64f9f170f560",
   "metadata": {},
   "source": [
    "## Statistical modeling"
   ]
  },
  {
   "cell_type": "markdown",
   "id": "7f5bcab3-f035-46da-ae9e-70c9a0fd6d41",
   "metadata": {},
   "source": [
    "### Winsorization"
   ]
  },
  {
   "cell_type": "code",
   "execution_count": null,
   "id": "1b83d66c-ff1e-4708-a16e-2969301db4b6",
   "metadata": {},
   "outputs": [],
   "source": [
    "stocks_manufacturing = stocks.loc[\"Manufacturing\"]"
   ]
  },
  {
   "cell_type": "code",
   "execution_count": null,
   "id": "68c752fc-8fb1-43d4-bb5b-4229113af611",
   "metadata": {},
   "outputs": [],
   "source": [
    "stocks_manufacturing.info()"
   ]
  },
  {
   "cell_type": "code",
   "execution_count": null,
   "id": "cfb2b732-993d-449b-a579-d8071b3e3c82",
   "metadata": {},
   "outputs": [],
   "source": [
    "stocks_manufacturing = stocks_manufacturing.clip(  # Winsorize dataset to remove most outliers\n",
    "    lower=stocks_manufacturing.quantile(0.01),\n",
    "    upper=stocks_manufacturing.quantile(0.99),\n",
    "    axis=1\n",
    ")"
   ]
  },
  {
   "cell_type": "code",
   "execution_count": null,
   "id": "38c840bb-12c8-4ebb-a3df-f6b3e45dd9dc",
   "metadata": {},
   "outputs": [],
   "source": [
    "stocks_manufacturing[\"firm size\"] = np.where(\n",
    "    stocks_manufacturing[\"market value\"] < stocks_manufacturing[\"market value\"].quantile(1/3),\n",
    "    \"small\",\n",
    "    \"medium\"\n",
    ")"
   ]
  },
  {
   "cell_type": "code",
   "execution_count": null,
   "id": "bff157b4-f1d5-4d3f-8f5d-31d3ecfd7016",
   "metadata": {},
   "outputs": [],
   "source": [
    "stocks_manufacturing[\"firm size\"] = np.where(\n",
    "    stocks_manufacturing[\"market value\"] >= stocks_manufacturing[\"market value\"].quantile(2/3),\n",
    "    \"big\",\n",
    "    stocks_manufacturing[\"firm size\"]\n",
    ")"
   ]
  },
  {
   "cell_type": "code",
   "execution_count": null,
   "id": "63d92164-2e7d-423b-9757-3a58bb7e6fec",
   "metadata": {},
   "outputs": [],
   "source": [
    "stocks_manufacturing[\"firm size\"].value_counts()"
   ]
  },
  {
   "cell_type": "code",
   "execution_count": null,
   "id": "e7bc0cdd-6908-4064-8d72-185f19e55f4c",
   "metadata": {},
   "outputs": [],
   "source": [
    "dummy_columns = pd.get_dummies(stocks_manufacturing[\"firm size\"])"
   ]
  },
  {
   "cell_type": "code",
   "execution_count": null,
   "id": "8a3a4f98-5259-4d6f-8ca1-3b585baf1c6e",
   "metadata": {},
   "outputs": [],
   "source": [
    "stocks_manufacturing = stocks_manufacturing.merge(dummy_columns, on=[\"firm\", \"q\"])"
   ]
  },
  {
   "cell_type": "code",
   "execution_count": null,
   "id": "f0d2b444-c73a-4c4b-91c9-95fb4246e91d",
   "metadata": {},
   "outputs": [],
   "source": [
    "dependent_variable = \"cc returns\""
   ]
  },
  {
   "cell_type": "code",
   "execution_count": null,
   "id": "23dcb961-2d90-4ff8-baf9-52494afad23c",
   "metadata": {},
   "outputs": [],
   "source": [
    "independent_variables = [\n",
    "    \"eps\",\n",
    "    \"net income\",\n",
    "    \"operating profit margin\",\n",
    "    \"operating profit growth\",\n",
    "    \"sales annual growth\", \n",
    "    \"ebit\",\n",
    "    \"short financial leverage\",\n",
    "    \"long financial leverage\",\n",
    "    \"book-to-market ratio\"\n",
    "]"
   ]
  },
  {
   "cell_type": "code",
   "execution_count": null,
   "id": "cd0fcdc4-1f79-46c4-8286-6351efed5e8f",
   "metadata": {},
   "outputs": [],
   "source": [
    "dummies = [\n",
    "    \"small\",\n",
    "    \"medium\",\n",
    "    \"big\"\n",
    "]"
   ]
  },
  {
   "cell_type": "code",
   "execution_count": null,
   "id": "28381410-8f85-4937-8a98-bdd79d607426",
   "metadata": {},
   "outputs": [],
   "source": [
    "columns = [dependent_variable] + independent_variables + dummies"
   ]
  },
  {
   "cell_type": "code",
   "execution_count": null,
   "id": "139f4cd1-71a7-451a-91d8-5385a27423c9",
   "metadata": {},
   "outputs": [],
   "source": [
    "stats_model = stocks_manufacturing[columns]"
   ]
  },
  {
   "cell_type": "markdown",
   "id": "1b25cd39-96c0-495d-bd7d-5f0657c7bba7",
   "metadata": {},
   "source": [
    "Apply min-max normalization to values."
   ]
  },
  {
   "cell_type": "code",
   "execution_count": null,
   "id": "5547bfb0-60e0-4523-9e47-492c8ac7342f",
   "metadata": {},
   "outputs": [],
   "source": [
    "stats_model = pd.DataFrame(\n",
    "    MinMaxScaler().fit_transform(stats_model),\n",
    "    columns=columns\n",
    ")"
   ]
  },
  {
   "cell_type": "code",
   "execution_count": null,
   "id": "4e96a285-35f5-407e-a8a9-584748d6157f",
   "metadata": {},
   "outputs": [],
   "source": [
    "stats_model.describe()"
   ]
  },
  {
   "cell_type": "code",
   "execution_count": null,
   "id": "a5738278-8ce4-4ed7-83fc-76eed9cbb0b8",
   "metadata": {},
   "outputs": [],
   "source": [
    "fig, axes = plt.subplots(nrows=3, ncols=3, figsize=(15,12))\n",
    "\n",
    "n_fig = 0\n",
    "\n",
    "for ivar in independent_variables:\n",
    "    splot = sns.scatterplot(\n",
    "        data=stats_model,\n",
    "        x=ivar,\n",
    "        y=dependent_variable,\n",
    "        ax=axes[n_fig // 3, n_fig % 3]\n",
    "    )\n",
    "    \n",
    "    n_fig += 1\n",
    "    \n",
    "fig.tight_layout()"
   ]
  },
  {
   "cell_type": "markdown",
   "id": "8081614d-19f5-486d-9193-f14b73c9d215",
   "metadata": {},
   "source": [
    "As it can be seen from the above histogram, there is no linear regression in any of the considered parameters. However, to train the linear regression for this deliverable, `net income`, `short financial leverage`, `sales annual growth`, and `eps` will be used for the model as they appear to have at least some degree of linear behaviour compared to the rest of variables that do not seem to be lineary related."
   ]
  },
  {
   "cell_type": "code",
   "execution_count": null,
   "id": "5a7b9536-5337-4a5f-b5e0-c9015e4e08f0",
   "metadata": {},
   "outputs": [],
   "source": [
    "independent_variables_model = [\"eps\", \"net income\", \"short financial leverage\", \"sales annual growth\"]"
   ]
  },
  {
   "cell_type": "code",
   "execution_count": null,
   "id": "10bca52f-50ff-4a52-8423-a5c0d47e55b3",
   "metadata": {},
   "outputs": [],
   "source": [
    "fig, axes = plt.subplots(nrows=4, ncols=1, figsize=(15,12))\n",
    "\n",
    "n_fig = 0\n",
    "\n",
    "for ivar in independent_variables_model:\n",
    "    hist = sns.histplot(stats_model, x=ivar, ax=axes[n_fig])\n",
    "    n_fig += 1\n",
    "    \n",
    "plt.tight_layout()"
   ]
  },
  {
   "cell_type": "markdown",
   "id": "269be399-6f75-4aad-bde1-bb9df90594f2",
   "metadata": {},
   "source": [
    "From the above histograms, it is possible to get a sense of the typical values for each of the factors. Because three of the histograms are skewed to the left, the typical value of these factor will correspond to the median. For the `eps` factor the mean is more appropiate sinde the distribution appears to have a normal behaviour."
   ]
  },
  {
   "cell_type": "markdown",
   "id": "7d7e2479-070e-4870-9e29-6b5a401b4486",
   "metadata": {},
   "source": [
    "Another remarkable insight is that histogram still present some outliers at their tails even after applying winsorization of 1% to the data."
   ]
  },
  {
   "cell_type": "code",
   "execution_count": null,
   "id": "8cec4af6-34e9-43ee-a33b-0d9e9af446ee",
   "metadata": {},
   "outputs": [],
   "source": [
    "typical_eps = stats_model[\"eps\"].mean()"
   ]
  },
  {
   "cell_type": "code",
   "execution_count": null,
   "id": "9719715b-a2ce-462b-b761-0d2d9a92441b",
   "metadata": {},
   "outputs": [],
   "source": [
    "typical_net_income = stats_model[\"net income\"].median()"
   ]
  },
  {
   "cell_type": "code",
   "execution_count": null,
   "id": "328d0e73-5f1e-4937-9ef2-19e5d43e4560",
   "metadata": {},
   "outputs": [],
   "source": [
    "typical_short_financial_leverage = stats_model[\"short financial leverage\"].median()"
   ]
  },
  {
   "cell_type": "code",
   "execution_count": null,
   "id": "58c76442-ee38-49a6-b922-92c977fe4d14",
   "metadata": {},
   "outputs": [],
   "source": [
    "typical_sales_annual_growth = stats_model[\"sales annual growth\"].median()"
   ]
  },
  {
   "cell_type": "code",
   "execution_count": null,
   "id": "078b7523-b2fb-4329-8f42-3f50cc754781",
   "metadata": {},
   "outputs": [],
   "source": [
    "print(\"Typical eps:\", typical_eps)"
   ]
  },
  {
   "cell_type": "code",
   "execution_count": null,
   "id": "6fa6250e-9165-42ee-bf72-aa9040229be8",
   "metadata": {},
   "outputs": [],
   "source": [
    "print(\"Typical net income:\", typical_net_income)"
   ]
  },
  {
   "cell_type": "code",
   "execution_count": null,
   "id": "791b2677-7144-40ac-bb14-8198dfc80697",
   "metadata": {},
   "outputs": [],
   "source": [
    "print(\"Typical short financial leverage:\", typical_short_financial_leverage)"
   ]
  },
  {
   "cell_type": "code",
   "execution_count": null,
   "id": "8a11823a-f649-4193-b684-16a513f7d6c0",
   "metadata": {},
   "outputs": [],
   "source": [
    "print(\"Typical sales annual growth:\", typical_sales_annual_growth)"
   ]
  },
  {
   "cell_type": "markdown",
   "id": "3d2544b9-815b-46a4-b193-eb098aeef0f2",
   "metadata": {},
   "source": [
    "Additionally, to get a sense of the dispersion of the chosen factor, the standard deviation can be calculated for each factor."
   ]
  },
  {
   "cell_type": "code",
   "execution_count": null,
   "id": "c2dce736-c16e-4684-b467-ffe9fea759cf",
   "metadata": {},
   "outputs": [],
   "source": [
    "eps_std = stats_model[\"eps\"].std()"
   ]
  },
  {
   "cell_type": "code",
   "execution_count": null,
   "id": "5ab362d9-6ef0-4ab4-a870-9e041cb7ddb8",
   "metadata": {},
   "outputs": [],
   "source": [
    "net_income_std = stats_model[\"net income\"].std()"
   ]
  },
  {
   "cell_type": "code",
   "execution_count": null,
   "id": "394faaac-356c-4319-aa3e-ad3bcb32c81b",
   "metadata": {},
   "outputs": [],
   "source": [
    "short_financial_leverage_std = stats_model[\"short financial leverage\"].std()"
   ]
  },
  {
   "cell_type": "code",
   "execution_count": null,
   "id": "94d3d7c3-a14e-4696-abaa-b140a695e390",
   "metadata": {},
   "outputs": [],
   "source": [
    "sales_annual_growth_std = stats_model[\"sales annual growth\"].std()"
   ]
  },
  {
   "cell_type": "code",
   "execution_count": null,
   "id": "b5d5ffde-2e8e-412b-9f54-4cacaae1f72b",
   "metadata": {},
   "outputs": [],
   "source": [
    "print(\"eps standard deviation:\", eps_std)"
   ]
  },
  {
   "cell_type": "code",
   "execution_count": null,
   "id": "67588597-04cd-4a12-818e-c46fba1fb1df",
   "metadata": {},
   "outputs": [],
   "source": [
    "print(\"Net income standard deviation:\", net_income_std)"
   ]
  },
  {
   "cell_type": "code",
   "execution_count": null,
   "id": "2699b2c4-cf1c-4860-95d4-7b9de2a66f8c",
   "metadata": {},
   "outputs": [],
   "source": [
    "print(\"Short financial leverage standard deviation:\", short_financial_leverage_std)"
   ]
  },
  {
   "cell_type": "code",
   "execution_count": null,
   "id": "88a06de5-f172-40cb-ae64-d39c784894f1",
   "metadata": {},
   "outputs": [],
   "source": [
    "print(\"Sales annual growth standard deviation:\", sales_annual_growth_std)"
   ]
  },
  {
   "cell_type": "markdown",
   "id": "49143bdd-19a8-4ecd-b5b8-b4a68ed8498c",
   "metadata": {},
   "source": [
    "# Multiple regression"
   ]
  },
  {
   "cell_type": "code",
   "execution_count": 80,
   "id": "d5ca4399-c095-4590-8101-4dffff708432",
   "metadata": {},
   "outputs": [
    {
     "data": {
      "text/html": [
       "<div>\n",
       "<style scoped>\n",
       "    .dataframe tbody tr th:only-of-type {\n",
       "        vertical-align: middle;\n",
       "    }\n",
       "\n",
       "    .dataframe tbody tr th {\n",
       "        vertical-align: top;\n",
       "    }\n",
       "\n",
       "    .dataframe thead th {\n",
       "        text-align: right;\n",
       "    }\n",
       "</style>\n",
       "<table border=\"1\" class=\"dataframe\">\n",
       "  <thead>\n",
       "    <tr style=\"text-align: right;\">\n",
       "      <th></th>\n",
       "      <th>cc returns</th>\n",
       "      <th>eps</th>\n",
       "      <th>net income</th>\n",
       "      <th>operating profit margin</th>\n",
       "      <th>operating profit growth</th>\n",
       "      <th>sales annual growth</th>\n",
       "      <th>ebit</th>\n",
       "      <th>short financial leverage</th>\n",
       "      <th>long financial leverage</th>\n",
       "      <th>book-to-market ratio</th>\n",
       "    </tr>\n",
       "  </thead>\n",
       "  <tbody>\n",
       "    <tr>\n",
       "      <th>0</th>\n",
       "      <td>NaN</td>\n",
       "      <td>NaN</td>\n",
       "      <td>NaN</td>\n",
       "      <td>NaN</td>\n",
       "      <td>NaN</td>\n",
       "      <td>NaN</td>\n",
       "      <td>NaN</td>\n",
       "      <td>NaN</td>\n",
       "      <td>NaN</td>\n",
       "      <td>NaN</td>\n",
       "    </tr>\n",
       "    <tr>\n",
       "      <th>1</th>\n",
       "      <td>0.357001</td>\n",
       "      <td>0.443804</td>\n",
       "      <td>0.152225</td>\n",
       "      <td>0.997883</td>\n",
       "      <td>NaN</td>\n",
       "      <td>NaN</td>\n",
       "      <td>0.119699</td>\n",
       "      <td>0.160442</td>\n",
       "      <td>0.000000</td>\n",
       "      <td>0.226851</td>\n",
       "    </tr>\n",
       "    <tr>\n",
       "      <th>2</th>\n",
       "      <td>0.318377</td>\n",
       "      <td>0.439928</td>\n",
       "      <td>0.148402</td>\n",
       "      <td>0.997848</td>\n",
       "      <td>NaN</td>\n",
       "      <td>NaN</td>\n",
       "      <td>0.118574</td>\n",
       "      <td>0.154759</td>\n",
       "      <td>0.000000</td>\n",
       "      <td>0.258068</td>\n",
       "    </tr>\n",
       "    <tr>\n",
       "      <th>3</th>\n",
       "      <td>0.622110</td>\n",
       "      <td>0.490727</td>\n",
       "      <td>0.200534</td>\n",
       "      <td>0.998123</td>\n",
       "      <td>NaN</td>\n",
       "      <td>NaN</td>\n",
       "      <td>0.188298</td>\n",
       "      <td>0.226009</td>\n",
       "      <td>0.000000</td>\n",
       "      <td>0.254107</td>\n",
       "    </tr>\n",
       "    <tr>\n",
       "      <th>4</th>\n",
       "      <td>0.221041</td>\n",
       "      <td>0.439149</td>\n",
       "      <td>0.148054</td>\n",
       "      <td>0.997942</td>\n",
       "      <td>NaN</td>\n",
       "      <td>NaN</td>\n",
       "      <td>0.137973</td>\n",
       "      <td>0.138525</td>\n",
       "      <td>0.000000</td>\n",
       "      <td>0.324214</td>\n",
       "    </tr>\n",
       "    <tr>\n",
       "      <th>...</th>\n",
       "      <td>...</td>\n",
       "      <td>...</td>\n",
       "      <td>...</td>\n",
       "      <td>...</td>\n",
       "      <td>...</td>\n",
       "      <td>...</td>\n",
       "      <td>...</td>\n",
       "      <td>...</td>\n",
       "      <td>...</td>\n",
       "      <td>...</td>\n",
       "    </tr>\n",
       "    <tr>\n",
       "      <th>140836</th>\n",
       "      <td>0.631831</td>\n",
       "      <td>0.349075</td>\n",
       "      <td>0.091074</td>\n",
       "      <td>NaN</td>\n",
       "      <td>0.430979</td>\n",
       "      <td>NaN</td>\n",
       "      <td>0.056769</td>\n",
       "      <td>0.004818</td>\n",
       "      <td>0.005399</td>\n",
       "      <td>0.326930</td>\n",
       "    </tr>\n",
       "    <tr>\n",
       "      <th>140837</th>\n",
       "      <td>0.428203</td>\n",
       "      <td>0.346688</td>\n",
       "      <td>0.090855</td>\n",
       "      <td>NaN</td>\n",
       "      <td>0.454190</td>\n",
       "      <td>NaN</td>\n",
       "      <td>0.056664</td>\n",
       "      <td>0.005293</td>\n",
       "      <td>0.005172</td>\n",
       "      <td>0.345213</td>\n",
       "    </tr>\n",
       "    <tr>\n",
       "      <th>140838</th>\n",
       "      <td>0.331962</td>\n",
       "      <td>0.353333</td>\n",
       "      <td>0.091469</td>\n",
       "      <td>NaN</td>\n",
       "      <td>0.445735</td>\n",
       "      <td>NaN</td>\n",
       "      <td>0.057050</td>\n",
       "      <td>0.005909</td>\n",
       "      <td>0.004932</td>\n",
       "      <td>0.401404</td>\n",
       "    </tr>\n",
       "    <tr>\n",
       "      <th>140839</th>\n",
       "      <td>0.359187</td>\n",
       "      <td>0.355488</td>\n",
       "      <td>0.091582</td>\n",
       "      <td>NaN</td>\n",
       "      <td>0.455012</td>\n",
       "      <td>NaN</td>\n",
       "      <td>0.057031</td>\n",
       "      <td>0.006493</td>\n",
       "      <td>0.004500</td>\n",
       "      <td>0.459124</td>\n",
       "    </tr>\n",
       "    <tr>\n",
       "      <th>140840</th>\n",
       "      <td>0.215649</td>\n",
       "      <td>0.351442</td>\n",
       "      <td>0.091108</td>\n",
       "      <td>NaN</td>\n",
       "      <td>0.448026</td>\n",
       "      <td>NaN</td>\n",
       "      <td>0.056957</td>\n",
       "      <td>0.007257</td>\n",
       "      <td>0.004010</td>\n",
       "      <td>0.612589</td>\n",
       "    </tr>\n",
       "  </tbody>\n",
       "</table>\n",
       "<p>140841 rows × 10 columns</p>\n",
       "</div>"
      ],
      "text/plain": [
       "        cc returns       eps  net income  operating profit margin  \\\n",
       "0              NaN       NaN         NaN                      NaN   \n",
       "1         0.357001  0.443804    0.152225                 0.997883   \n",
       "2         0.318377  0.439928    0.148402                 0.997848   \n",
       "3         0.622110  0.490727    0.200534                 0.998123   \n",
       "4         0.221041  0.439149    0.148054                 0.997942   \n",
       "...            ...       ...         ...                      ...   \n",
       "140836    0.631831  0.349075    0.091074                      NaN   \n",
       "140837    0.428203  0.346688    0.090855                      NaN   \n",
       "140838    0.331962  0.353333    0.091469                      NaN   \n",
       "140839    0.359187  0.355488    0.091582                      NaN   \n",
       "140840    0.215649  0.351442    0.091108                      NaN   \n",
       "\n",
       "        operating profit growth  sales annual growth      ebit  \\\n",
       "0                           NaN                  NaN       NaN   \n",
       "1                           NaN                  NaN  0.119699   \n",
       "2                           NaN                  NaN  0.118574   \n",
       "3                           NaN                  NaN  0.188298   \n",
       "4                           NaN                  NaN  0.137973   \n",
       "...                         ...                  ...       ...   \n",
       "140836                 0.430979                  NaN  0.056769   \n",
       "140837                 0.454190                  NaN  0.056664   \n",
       "140838                 0.445735                  NaN  0.057050   \n",
       "140839                 0.455012                  NaN  0.057031   \n",
       "140840                 0.448026                  NaN  0.056957   \n",
       "\n",
       "        short financial leverage  long financial leverage  \\\n",
       "0                            NaN                      NaN   \n",
       "1                       0.160442                 0.000000   \n",
       "2                       0.154759                 0.000000   \n",
       "3                       0.226009                 0.000000   \n",
       "4                       0.138525                 0.000000   \n",
       "...                          ...                      ...   \n",
       "140836                  0.004818                 0.005399   \n",
       "140837                  0.005293                 0.005172   \n",
       "140838                  0.005909                 0.004932   \n",
       "140839                  0.006493                 0.004500   \n",
       "140840                  0.007257                 0.004010   \n",
       "\n",
       "        book-to-market ratio  \n",
       "0                        NaN  \n",
       "1                   0.226851  \n",
       "2                   0.258068  \n",
       "3                   0.254107  \n",
       "4                   0.324214  \n",
       "...                      ...  \n",
       "140836              0.326930  \n",
       "140837              0.345213  \n",
       "140838              0.401404  \n",
       "140839              0.459124  \n",
       "140840              0.612589  \n",
       "\n",
       "[140841 rows x 10 columns]"
      ]
     },
     "execution_count": 80,
     "metadata": {},
     "output_type": "execute_result"
    }
   ],
   "source": [
    "stats_model"
   ]
  },
  {
   "cell_type": "code",
   "execution_count": 77,
   "id": "3d8f98c4-c50f-4427-88d8-ce58c9d3a27d",
   "metadata": {},
   "outputs": [],
   "source": [
    "X = stats_model[independent_variables_model]"
   ]
  },
  {
   "cell_type": "code",
   "execution_count": 81,
   "id": "2f9b5000-98ec-4315-b74e-eb024effe512",
   "metadata": {},
   "outputs": [],
   "source": [
    "y = stats_model[[dependent_variable]]"
   ]
  },
  {
   "cell_type": "markdown",
   "id": "2d464acb-2b5e-4607-934d-6b3c432d6c05",
   "metadata": {},
   "source": [
    "---"
   ]
  },
  {
   "cell_type": "markdown",
   "id": "fb29fc47-9d80-4a37-9f46-709f3a18ae27",
   "metadata": {},
   "source": [
    "# EDA"
   ]
  },
  {
   "cell_type": "markdown",
   "id": "8b332317-e489-4d1f-8105-bafd761ff702",
   "metadata": {},
   "source": [
    "## US firms by indutry"
   ]
  },
  {
   "cell_type": "markdown",
   "id": "0d2230e9-a87c-42cb-97fd-979ea546c941",
   "metadata": {},
   "source": [
    "---\n",
    "\n",
    "# Glossary"
   ]
  },
  {
   "cell_type": "markdown",
   "id": "0ed1658d-71c7-4db5-b343-e64266f88528",
   "metadata": {},
   "source": [
    "## Firm size measures"
   ]
  },
  {
   "cell_type": "markdown",
   "id": "662bf360-6ccb-4f1b-90f6-1a43348a0756",
   "metadata": {},
   "source": [
    "$$\n",
    "\\text{book value} = \\text{total assets} - \\text{total liabilities}\n",
    "$$"
   ]
  },
  {
   "cell_type": "markdown",
   "id": "59236c60-3df7-41b6-9d36-aa2688fad51f",
   "metadata": {},
   "source": [
    "$$\n",
    "\\begin{aligned}\n",
    "\\text{market value} &= \\text{historical stock price} \\times |\\text{shares}|\\\\\n",
    "                    &= \\text{original price} \\times \\text{share outstanding}\n",
    "\\end{aligned}\n",
    "$$"
   ]
  },
  {
   "cell_type": "markdown",
   "id": "9df0230e-81ea-4975-8d23-fbdc6920ec9e",
   "metadata": {},
   "source": [
    "## Profit margin measures"
   ]
  },
  {
   "cell_type": "markdown",
   "id": "69b357b7-0c7f-4366-8de3-cbc1215d13e0",
   "metadata": {},
   "source": [
    "$$\n",
    "\\text{operating profit margin} = \\frac{\\text{operating profit}}{\\text{sales}}\n",
    "$$"
   ]
  },
  {
   "cell_type": "markdown",
   "id": "5c1d2e9b-cf2a-4edd-9dc0-b16e9ddffb33",
   "metadata": {},
   "source": [
    "$$\n",
    "\\text{operating profit} = \\text{revenue} - \\text{cogs} - \\text{sgae}\n",
    "$$"
   ]
  },
  {
   "cell_type": "markdown",
   "id": "2e3a00ec-76f6-4f74-a863-d50450f450b8",
   "metadata": {},
   "source": [
    "$$\n",
    "\\text{cogs} = \\text{cost of good sold} = \\text{variable cost}\n",
    "$$"
   ]
  },
  {
   "cell_type": "markdown",
   "id": "6cfaa8f7-1d4e-4cc9-8651-ef10769d1665",
   "metadata": {},
   "source": [
    "$$\n",
    "\\text{sgae} = \\text{sales and general administrative expenses} = \\text{fixe costs}\n",
    "$$"
   ]
  },
  {
   "cell_type": "markdown",
   "id": "54de9b22-e01c-4281-bfbe-b5942db98d24",
   "metadata": {},
   "source": [
    "$$\n",
    "\\begin{aligned}\n",
    "\\text{ebit} &= \\text{earnings before interest and taxes} = \\text{opearting profit} \\\\\n",
    "            &= \\text{revenue} - \\text{cogs} - \\text{sgae} - \\text{otheropexp}\n",
    "\\end{aligned}\n",
    "$$"
   ]
  },
  {
   "cell_type": "markdown",
   "id": "cfb9cabd-aa9b-48dc-9de7-942f81ba5f4b",
   "metadata": {},
   "source": [
    "$$\n",
    "\\text{operating profit margin} = \\text{opm} = \\frac{\\text{ebit}}{\\text{revenue}}\n",
    "$$"
   ]
  },
  {
   "cell_type": "markdown",
   "id": "897ed4c6-a1c4-448d-a911-cff80f00a842",
   "metadata": {},
   "source": [
    "$$\n",
    "\\text{profit margin} = \\frac{\\text{net income}}{\\text{sales}}\n",
    "$$"
   ]
  }
 ],
 "metadata": {
  "kernelspec": {
   "display_name": "Python 3 (ipykernel)",
   "language": "python",
   "name": "python3"
  },
  "language_info": {
   "codemirror_mode": {
    "name": "ipython",
    "version": 3
   },
   "file_extension": ".py",
   "mimetype": "text/x-python",
   "name": "python",
   "nbconvert_exporter": "python",
   "pygments_lexer": "ipython3",
   "version": "3.10.6"
  }
 },
 "nbformat": 4,
 "nbformat_minor": 5
}
